{
 "cells": [
  {
   "cell_type": "code",
   "execution_count": 1,
   "metadata": {
    "collapsed": true
   },
   "outputs": [],
   "source": [
    "import numpy as np\n",
    "import pandas as pd\n"
   ]
  },
  {
   "cell_type": "markdown",
   "metadata": {},
   "source": [
    "## THE MOVIELENS DATA SET"
   ]
  },
  {
   "cell_type": "code",
   "execution_count": 2,
   "metadata": {},
   "outputs": [
    {
     "name": "stdout",
     "output_type": "stream",
     "text": [
      "movielens  Pandas practice.ipynb  Untitled.ipynb\r\n"
     ]
    }
   ],
   "source": [
    "! ls\n"
   ]
  },
  {
   "cell_type": "code",
   "execution_count": 3,
   "metadata": {},
   "outputs": [
    {
     "name": "stdout",
     "output_type": "stream",
     "text": [
      "9126\r\n"
     ]
    }
   ],
   "source": [
    "!cat ./movielens/movies.csv | wc -l"
   ]
  },
  {
   "cell_type": "code",
   "execution_count": 4,
   "metadata": {},
   "outputs": [
    {
     "name": "stdout",
     "output_type": "stream",
     "text": [
      "userId,movieId,rating,timestamp\r",
      "\r\n",
      "1,31,2.5,1260759144\r",
      "\r\n",
      "1,1029,3.0,1260759179\r",
      "\r\n",
      "1,1061,3.0,1260759182\r",
      "\r\n",
      "1,1129,2.0,1260759185\r",
      "\r\n"
     ]
    }
   ],
   "source": [
    "!head -5 ./movielens/ratings.csv"
   ]
  },
  {
   "cell_type": "code",
   "execution_count": 5,
   "metadata": {},
   "outputs": [
    {
     "name": "stdout",
     "output_type": "stream",
     "text": [
      "(9125, 3)\n"
     ]
    },
    {
     "data": {
      "text/html": [
       "<div>\n",
       "<style>\n",
       "    .dataframe thead tr:only-child th {\n",
       "        text-align: right;\n",
       "    }\n",
       "\n",
       "    .dataframe thead th {\n",
       "        text-align: left;\n",
       "    }\n",
       "\n",
       "    .dataframe tbody tr th {\n",
       "        vertical-align: top;\n",
       "    }\n",
       "</style>\n",
       "<table border=\"1\" class=\"dataframe\">\n",
       "  <thead>\n",
       "    <tr style=\"text-align: right;\">\n",
       "      <th></th>\n",
       "      <th>movieId</th>\n",
       "    </tr>\n",
       "  </thead>\n",
       "  <tbody>\n",
       "    <tr>\n",
       "      <th>count</th>\n",
       "      <td>9125.000000</td>\n",
       "    </tr>\n",
       "    <tr>\n",
       "      <th>mean</th>\n",
       "      <td>31123.291836</td>\n",
       "    </tr>\n",
       "    <tr>\n",
       "      <th>std</th>\n",
       "      <td>40782.633604</td>\n",
       "    </tr>\n",
       "    <tr>\n",
       "      <th>min</th>\n",
       "      <td>1.000000</td>\n",
       "    </tr>\n",
       "    <tr>\n",
       "      <th>25%</th>\n",
       "      <td>2850.000000</td>\n",
       "    </tr>\n",
       "    <tr>\n",
       "      <th>50%</th>\n",
       "      <td>6290.000000</td>\n",
       "    </tr>\n",
       "    <tr>\n",
       "      <th>75%</th>\n",
       "      <td>56274.000000</td>\n",
       "    </tr>\n",
       "    <tr>\n",
       "      <th>max</th>\n",
       "      <td>164979.000000</td>\n",
       "    </tr>\n",
       "  </tbody>\n",
       "</table>\n",
       "</div>"
      ],
      "text/plain": [
       "             movieId\n",
       "count    9125.000000\n",
       "mean    31123.291836\n",
       "std     40782.633604\n",
       "min         1.000000\n",
       "25%      2850.000000\n",
       "50%      6290.000000\n",
       "75%     56274.000000\n",
       "max    164979.000000"
      ]
     },
     "execution_count": 5,
     "metadata": {},
     "output_type": "execute_result"
    }
   ],
   "source": [
    "#movies\n",
    "movies = pd.read_csv('./movielens/movies.csv')\n",
    "print(movies.shape)\n",
    "movies.head(15)\n",
    "movies.describe()"
   ]
  },
  {
   "cell_type": "code",
   "execution_count": 14,
   "metadata": {},
   "outputs": [
    {
     "name": "stdout",
     "output_type": "stream",
     "text": [
      "1296\n"
     ]
    },
    {
     "data": {
      "text/html": [
       "<div>\n",
       "<style>\n",
       "    .dataframe thead tr:only-child th {\n",
       "        text-align: right;\n",
       "    }\n",
       "\n",
       "    .dataframe thead th {\n",
       "        text-align: left;\n",
       "    }\n",
       "\n",
       "    .dataframe tbody tr th {\n",
       "        vertical-align: top;\n",
       "    }\n",
       "</style>\n",
       "<table border=\"1\" class=\"dataframe\">\n",
       "  <thead>\n",
       "    <tr style=\"text-align: right;\">\n",
       "      <th></th>\n",
       "      <th>userId</th>\n",
       "      <th>movieId</th>\n",
       "      <th>tag</th>\n",
       "      <th>timestamp</th>\n",
       "    </tr>\n",
       "  </thead>\n",
       "  <tbody>\n",
       "    <tr>\n",
       "      <th>969</th>\n",
       "      <td>547</td>\n",
       "      <td>8125</td>\n",
       "      <td>afi</td>\n",
       "      <td>1182393855</td>\n",
       "    </tr>\n",
       "    <tr>\n",
       "      <th>1169</th>\n",
       "      <td>547</td>\n",
       "      <td>101895</td>\n",
       "      <td>toplist13</td>\n",
       "      <td>1383626036</td>\n",
       "    </tr>\n",
       "    <tr>\n",
       "      <th>605</th>\n",
       "      <td>431</td>\n",
       "      <td>520</td>\n",
       "      <td>very funny!</td>\n",
       "      <td>1140454299</td>\n",
       "    </tr>\n",
       "    <tr>\n",
       "      <th>8</th>\n",
       "      <td>15</td>\n",
       "      <td>100365</td>\n",
       "      <td>activist</td>\n",
       "      <td>1425876220</td>\n",
       "    </tr>\n",
       "    <tr>\n",
       "      <th>1068</th>\n",
       "      <td>547</td>\n",
       "      <td>61240</td>\n",
       "      <td>toplist08</td>\n",
       "      <td>1230814624</td>\n",
       "    </tr>\n",
       "  </tbody>\n",
       "</table>\n",
       "</div>"
      ],
      "text/plain": [
       "      userId  movieId          tag   timestamp\n",
       "969      547     8125          afi  1182393855\n",
       "1169     547   101895    toplist13  1383626036\n",
       "605      431      520  very funny!  1140454299\n",
       "8         15   100365     activist  1425876220\n",
       "1068     547    61240    toplist08  1230814624"
      ]
     },
     "execution_count": 14,
     "metadata": {},
     "output_type": "execute_result"
    }
   ],
   "source": [
    "# import tags\n",
    "tags = pd.read_csv('./movielens/tags.csv')\n",
    "print(len(tags))\n",
    "tags.head()\n",
    "tags.sample(5)\n"
   ]
  },
  {
   "cell_type": "code",
   "execution_count": 15,
   "metadata": {},
   "outputs": [
    {
     "data": {
      "text/html": [
       "<div>\n",
       "<style>\n",
       "    .dataframe thead tr:only-child th {\n",
       "        text-align: right;\n",
       "    }\n",
       "\n",
       "    .dataframe thead th {\n",
       "        text-align: left;\n",
       "    }\n",
       "\n",
       "    .dataframe tbody tr th {\n",
       "        vertical-align: top;\n",
       "    }\n",
       "</style>\n",
       "<table border=\"1\" class=\"dataframe\">\n",
       "  <thead>\n",
       "    <tr style=\"text-align: right;\">\n",
       "      <th></th>\n",
       "      <th>userId</th>\n",
       "      <th>movieId</th>\n",
       "      <th>rating</th>\n",
       "      <th>timestamp</th>\n",
       "    </tr>\n",
       "  </thead>\n",
       "  <tbody>\n",
       "    <tr>\n",
       "      <th>84906</th>\n",
       "      <td>570</td>\n",
       "      <td>457</td>\n",
       "      <td>4.0</td>\n",
       "      <td>1475783286</td>\n",
       "    </tr>\n",
       "    <tr>\n",
       "      <th>94215</th>\n",
       "      <td>624</td>\n",
       "      <td>4351</td>\n",
       "      <td>1.0</td>\n",
       "      <td>1160936767</td>\n",
       "    </tr>\n",
       "    <tr>\n",
       "      <th>47933</th>\n",
       "      <td>353</td>\n",
       "      <td>1387</td>\n",
       "      <td>3.5</td>\n",
       "      <td>1113052996</td>\n",
       "    </tr>\n",
       "    <tr>\n",
       "      <th>8275</th>\n",
       "      <td>56</td>\n",
       "      <td>223</td>\n",
       "      <td>4.0</td>\n",
       "      <td>1467004879</td>\n",
       "    </tr>\n",
       "    <tr>\n",
       "      <th>25185</th>\n",
       "      <td>185</td>\n",
       "      <td>239</td>\n",
       "      <td>2.0</td>\n",
       "      <td>1003523380</td>\n",
       "    </tr>\n",
       "  </tbody>\n",
       "</table>\n",
       "</div>"
      ],
      "text/plain": [
       "       userId  movieId  rating   timestamp\n",
       "84906     570      457     4.0  1475783286\n",
       "94215     624     4351     1.0  1160936767\n",
       "47933     353     1387     3.5  1113052996\n",
       "8275       56      223     4.0  1467004879\n",
       "25185     185      239     2.0  1003523380"
      ]
     },
     "execution_count": 15,
     "metadata": {},
     "output_type": "execute_result"
    }
   ],
   "source": [
    "# import ratings \n",
    "\n",
    "ratings = pd.read_csv('./movielens/ratings.csv')\n",
    "ratings.head()\n",
    "ratings.sample(5)\n"
   ]
  },
  {
   "cell_type": "code",
   "execution_count": 79,
   "metadata": {
    "collapsed": true
   },
   "outputs": [],
   "source": [
    "# I am being asked to remove the timestamps for current analysis per the tutorial, we shall see\n",
    "\n",
    "# del tags['timestamp']\n",
    "# del ratings['timestamp']"
   ]
  },
  {
   "cell_type": "markdown",
   "metadata": {},
   "source": [
    "## Describe and explore data \n"
   ]
  },
  {
   "cell_type": "code",
   "execution_count": 18,
   "metadata": {},
   "outputs": [
    {
     "data": {
      "text/html": [
       "<div>\n",
       "<style>\n",
       "    .dataframe thead tr:only-child th {\n",
       "        text-align: right;\n",
       "    }\n",
       "\n",
       "    .dataframe thead th {\n",
       "        text-align: left;\n",
       "    }\n",
       "\n",
       "    .dataframe tbody tr th {\n",
       "        vertical-align: top;\n",
       "    }\n",
       "</style>\n",
       "<table border=\"1\" class=\"dataframe\">\n",
       "  <thead>\n",
       "    <tr style=\"text-align: right;\">\n",
       "      <th></th>\n",
       "      <th>movieId</th>\n",
       "      <th>title</th>\n",
       "      <th>genres</th>\n",
       "    </tr>\n",
       "  </thead>\n",
       "  <tbody>\n",
       "    <tr>\n",
       "      <th>2374</th>\n",
       "      <td>2959</td>\n",
       "      <td>Fight Club (1999)</td>\n",
       "      <td>Action|Crime|Drama|Thriller</td>\n",
       "    </tr>\n",
       "    <tr>\n",
       "      <th>6231</th>\n",
       "      <td>37386</td>\n",
       "      <td>Aeon Flux (2005)</td>\n",
       "      <td>Action|Sci-Fi</td>\n",
       "    </tr>\n",
       "    <tr>\n",
       "      <th>1254</th>\n",
       "      <td>1581</td>\n",
       "      <td>Out to Sea (1997)</td>\n",
       "      <td>Comedy</td>\n",
       "    </tr>\n",
       "    <tr>\n",
       "      <th>6388</th>\n",
       "      <td>44204</td>\n",
       "      <td>Tsotsi (2005)</td>\n",
       "      <td>Crime|Drama</td>\n",
       "    </tr>\n",
       "    <tr>\n",
       "      <th>1479</th>\n",
       "      <td>1916</td>\n",
       "      <td>Buffalo '66 (a.k.a. Buffalo 66) (1998)</td>\n",
       "      <td>Drama|Romance</td>\n",
       "    </tr>\n",
       "  </tbody>\n",
       "</table>\n",
       "</div>"
      ],
      "text/plain": [
       "      movieId                                   title  \\\n",
       "2374     2959                       Fight Club (1999)   \n",
       "6231    37386                        Aeon Flux (2005)   \n",
       "1254     1581                       Out to Sea (1997)   \n",
       "6388    44204                           Tsotsi (2005)   \n",
       "1479     1916  Buffalo '66 (a.k.a. Buffalo 66) (1998)   \n",
       "\n",
       "                           genres  \n",
       "2374  Action|Crime|Drama|Thriller  \n",
       "6231                Action|Sci-Fi  \n",
       "1254                       Comedy  \n",
       "6388                  Crime|Drama  \n",
       "1479                Drama|Romance  "
      ]
     },
     "execution_count": 18,
     "metadata": {},
     "output_type": "execute_result"
    }
   ],
   "source": [
    "movies.describe()\n",
    "movies.sample(5)"
   ]
  },
  {
   "cell_type": "code",
   "execution_count": 16,
   "metadata": {},
   "outputs": [
    {
     "data": {
      "text/html": [
       "<div>\n",
       "<style>\n",
       "    .dataframe thead tr:only-child th {\n",
       "        text-align: right;\n",
       "    }\n",
       "\n",
       "    .dataframe thead th {\n",
       "        text-align: left;\n",
       "    }\n",
       "\n",
       "    .dataframe tbody tr th {\n",
       "        vertical-align: top;\n",
       "    }\n",
       "</style>\n",
       "<table border=\"1\" class=\"dataframe\">\n",
       "  <thead>\n",
       "    <tr style=\"text-align: right;\">\n",
       "      <th></th>\n",
       "      <th>userId</th>\n",
       "      <th>movieId</th>\n",
       "      <th>rating</th>\n",
       "      <th>timestamp</th>\n",
       "    </tr>\n",
       "  </thead>\n",
       "  <tbody>\n",
       "    <tr>\n",
       "      <th>count</th>\n",
       "      <td>100004.000000</td>\n",
       "      <td>100004.000000</td>\n",
       "      <td>100004.000000</td>\n",
       "      <td>1.000040e+05</td>\n",
       "    </tr>\n",
       "    <tr>\n",
       "      <th>mean</th>\n",
       "      <td>347.011310</td>\n",
       "      <td>12548.664363</td>\n",
       "      <td>3.543608</td>\n",
       "      <td>1.129639e+09</td>\n",
       "    </tr>\n",
       "    <tr>\n",
       "      <th>std</th>\n",
       "      <td>195.163838</td>\n",
       "      <td>26369.198969</td>\n",
       "      <td>1.058064</td>\n",
       "      <td>1.916858e+08</td>\n",
       "    </tr>\n",
       "    <tr>\n",
       "      <th>min</th>\n",
       "      <td>1.000000</td>\n",
       "      <td>1.000000</td>\n",
       "      <td>0.500000</td>\n",
       "      <td>7.896520e+08</td>\n",
       "    </tr>\n",
       "    <tr>\n",
       "      <th>25%</th>\n",
       "      <td>182.000000</td>\n",
       "      <td>1028.000000</td>\n",
       "      <td>3.000000</td>\n",
       "      <td>9.658478e+08</td>\n",
       "    </tr>\n",
       "    <tr>\n",
       "      <th>50%</th>\n",
       "      <td>367.000000</td>\n",
       "      <td>2406.500000</td>\n",
       "      <td>4.000000</td>\n",
       "      <td>1.110422e+09</td>\n",
       "    </tr>\n",
       "    <tr>\n",
       "      <th>75%</th>\n",
       "      <td>520.000000</td>\n",
       "      <td>5418.000000</td>\n",
       "      <td>4.000000</td>\n",
       "      <td>1.296192e+09</td>\n",
       "    </tr>\n",
       "    <tr>\n",
       "      <th>max</th>\n",
       "      <td>671.000000</td>\n",
       "      <td>163949.000000</td>\n",
       "      <td>5.000000</td>\n",
       "      <td>1.476641e+09</td>\n",
       "    </tr>\n",
       "  </tbody>\n",
       "</table>\n",
       "</div>"
      ],
      "text/plain": [
       "              userId        movieId         rating     timestamp\n",
       "count  100004.000000  100004.000000  100004.000000  1.000040e+05\n",
       "mean      347.011310   12548.664363       3.543608  1.129639e+09\n",
       "std       195.163838   26369.198969       1.058064  1.916858e+08\n",
       "min         1.000000       1.000000       0.500000  7.896520e+08\n",
       "25%       182.000000    1028.000000       3.000000  9.658478e+08\n",
       "50%       367.000000    2406.500000       4.000000  1.110422e+09\n",
       "75%       520.000000    5418.000000       4.000000  1.296192e+09\n",
       "max       671.000000  163949.000000       5.000000  1.476641e+09"
      ]
     },
     "execution_count": 16,
     "metadata": {},
     "output_type": "execute_result"
    }
   ],
   "source": [
    "ratings.describe()"
   ]
  },
  {
   "cell_type": "code",
   "execution_count": 19,
   "metadata": {},
   "outputs": [
    {
     "data": {
      "text/html": [
       "<div>\n",
       "<style>\n",
       "    .dataframe thead tr:only-child th {\n",
       "        text-align: right;\n",
       "    }\n",
       "\n",
       "    .dataframe thead th {\n",
       "        text-align: left;\n",
       "    }\n",
       "\n",
       "    .dataframe tbody tr th {\n",
       "        vertical-align: top;\n",
       "    }\n",
       "</style>\n",
       "<table border=\"1\" class=\"dataframe\">\n",
       "  <thead>\n",
       "    <tr style=\"text-align: right;\">\n",
       "      <th></th>\n",
       "      <th>userId</th>\n",
       "      <th>movieId</th>\n",
       "      <th>timestamp</th>\n",
       "    </tr>\n",
       "  </thead>\n",
       "  <tbody>\n",
       "    <tr>\n",
       "      <th>count</th>\n",
       "      <td>1296.000000</td>\n",
       "      <td>1296.000000</td>\n",
       "      <td>1.296000e+03</td>\n",
       "    </tr>\n",
       "    <tr>\n",
       "      <th>mean</th>\n",
       "      <td>417.026235</td>\n",
       "      <td>42278.949846</td>\n",
       "      <td>1.324337e+09</td>\n",
       "    </tr>\n",
       "    <tr>\n",
       "      <th>std</th>\n",
       "      <td>142.183440</td>\n",
       "      <td>44628.345568</td>\n",
       "      <td>1.093886e+08</td>\n",
       "    </tr>\n",
       "    <tr>\n",
       "      <th>min</th>\n",
       "      <td>15.000000</td>\n",
       "      <td>1.000000</td>\n",
       "      <td>1.137217e+09</td>\n",
       "    </tr>\n",
       "    <tr>\n",
       "      <th>25%</th>\n",
       "      <td>346.000000</td>\n",
       "      <td>2988.000000</td>\n",
       "      <td>1.243455e+09</td>\n",
       "    </tr>\n",
       "    <tr>\n",
       "      <th>50%</th>\n",
       "      <td>431.000000</td>\n",
       "      <td>26958.500000</td>\n",
       "      <td>1.342849e+09</td>\n",
       "    </tr>\n",
       "    <tr>\n",
       "      <th>75%</th>\n",
       "      <td>547.000000</td>\n",
       "      <td>72268.250000</td>\n",
       "      <td>1.440380e+09</td>\n",
       "    </tr>\n",
       "    <tr>\n",
       "      <th>max</th>\n",
       "      <td>663.000000</td>\n",
       "      <td>164979.000000</td>\n",
       "      <td>1.476651e+09</td>\n",
       "    </tr>\n",
       "  </tbody>\n",
       "</table>\n",
       "</div>"
      ],
      "text/plain": [
       "            userId        movieId     timestamp\n",
       "count  1296.000000    1296.000000  1.296000e+03\n",
       "mean    417.026235   42278.949846  1.324337e+09\n",
       "std     142.183440   44628.345568  1.093886e+08\n",
       "min      15.000000       1.000000  1.137217e+09\n",
       "25%     346.000000    2988.000000  1.243455e+09\n",
       "50%     431.000000   26958.500000  1.342849e+09\n",
       "75%     547.000000   72268.250000  1.440380e+09\n",
       "max     663.000000  164979.000000  1.476651e+09"
      ]
     },
     "execution_count": 19,
     "metadata": {},
     "output_type": "execute_result"
    }
   ],
   "source": [
    "tags.describe()\n"
   ]
  },
  {
   "cell_type": "markdown",
   "metadata": {},
   "source": [
    "## LOOK FOR EMPTIES \n"
   ]
  },
  {
   "cell_type": "code",
   "execution_count": 20,
   "metadata": {},
   "outputs": [
    {
     "data": {
      "text/plain": [
       "movieId    False\n",
       "title      False\n",
       "genres     False\n",
       "dtype: bool"
      ]
     },
     "execution_count": 20,
     "metadata": {},
     "output_type": "execute_result"
    }
   ],
   "source": [
    "# ANY NULLS IN THE MOVIES DB /\n",
    "movies.shape\n",
    "movies.isnull().any()\n",
    "\n",
    "# Great, no empties in there"
   ]
  },
  {
   "cell_type": "code",
   "execution_count": 21,
   "metadata": {},
   "outputs": [
    {
     "data": {
      "text/plain": [
       "userId       False\n",
       "movieId      False\n",
       "rating       False\n",
       "timestamp    False\n",
       "dtype: bool"
      ]
     },
     "execution_count": 21,
     "metadata": {},
     "output_type": "execute_result"
    }
   ],
   "source": [
    "# ANY NULLS IN THE RATINGS \n",
    "ratings.shape\n",
    "ratings.isnull().any()\n",
    "\n",
    "#More good news, no empties in here as well"
   ]
  },
  {
   "cell_type": "code",
   "execution_count": 22,
   "metadata": {},
   "outputs": [
    {
     "data": {
      "text/plain": [
       "userId       False\n",
       "movieId      False\n",
       "tag          False\n",
       "timestamp    False\n",
       "dtype: bool"
      ]
     },
     "execution_count": 22,
     "metadata": {},
     "output_type": "execute_result"
    }
   ],
   "source": [
    "# ANY NULLS IN TAGS\n",
    "tags.shape\n",
    "tags.isnull().any()\n",
    "\n",
    "#Doesn't seem to be any nulls in tags as well"
   ]
  },
  {
   "cell_type": "markdown",
   "metadata": {},
   "source": [
    "## Visualize the data \n"
   ]
  },
  {
   "cell_type": "code",
   "execution_count": 23,
   "metadata": {},
   "outputs": [
    {
     "data": {
      "text/plain": [
       "array([[<matplotlib.axes._subplots.AxesSubplot object at 0x7f2f1c01c7f0>]], dtype=object)"
      ]
     },
     "execution_count": 23,
     "metadata": {},
     "output_type": "execute_result"
    },
    {
     "data": {
      "image/png": "[encoded data removed]",
      "text/plain": [
       "<matplotlib.figure.Figure at 0x7f2f1dcdc588>"
      ]
     },
     "metadata": {},
     "output_type": "display_data"
    }
   ],
   "source": [
    "%matplotlib inline\n",
    "ratings.hist(column='rating',figsize=(5,5))\n"
   ]
  },
  {
   "cell_type": "markdown",
   "metadata": {},
   "source": [
    "## As you can see in the histogram above that the most common rating for a movie is 4.0"
   ]
  },
  {
   "cell_type": "code",
   "execution_count": 26,
   "metadata": {},
   "outputs": [
    {
     "data": {
      "text/html": [
       "<div>\n",
       "<style>\n",
       "    .dataframe thead tr:only-child th {\n",
       "        text-align: right;\n",
       "    }\n",
       "\n",
       "    .dataframe thead th {\n",
       "        text-align: left;\n",
       "    }\n",
       "\n",
       "    .dataframe tbody tr th {\n",
       "        vertical-align: top;\n",
       "    }\n",
       "</style>\n",
       "<table border=\"1\" class=\"dataframe\">\n",
       "  <thead>\n",
       "    <tr style=\"text-align: right;\">\n",
       "      <th></th>\n",
       "      <th>movieId</th>\n",
       "      <th>title</th>\n",
       "      <th>genres</th>\n",
       "    </tr>\n",
       "  </thead>\n",
       "  <tbody>\n",
       "    <tr>\n",
       "      <th>0</th>\n",
       "      <td>1</td>\n",
       "      <td>Toy Story (1995)</td>\n",
       "      <td>Adventure|Animation|Children|Comedy|Fantasy</td>\n",
       "    </tr>\n",
       "    <tr>\n",
       "      <th>1</th>\n",
       "      <td>2</td>\n",
       "      <td>Jumanji (1995)</td>\n",
       "      <td>Adventure|Children|Fantasy</td>\n",
       "    </tr>\n",
       "    <tr>\n",
       "      <th>2</th>\n",
       "      <td>3</td>\n",
       "      <td>Grumpier Old Men (1995)</td>\n",
       "      <td>Comedy|Romance</td>\n",
       "    </tr>\n",
       "    <tr>\n",
       "      <th>3</th>\n",
       "      <td>4</td>\n",
       "      <td>Waiting to Exhale (1995)</td>\n",
       "      <td>Comedy|Drama|Romance</td>\n",
       "    </tr>\n",
       "    <tr>\n",
       "      <th>4</th>\n",
       "      <td>5</td>\n",
       "      <td>Father of the Bride Part II (1995)</td>\n",
       "      <td>Comedy</td>\n",
       "    </tr>\n",
       "  </tbody>\n",
       "</table>\n",
       "</div>"
      ],
      "text/plain": [
       "   movieId                               title  \\\n",
       "0        1                    Toy Story (1995)   \n",
       "1        2                      Jumanji (1995)   \n",
       "2        3             Grumpier Old Men (1995)   \n",
       "3        4            Waiting to Exhale (1995)   \n",
       "4        5  Father of the Bride Part II (1995)   \n",
       "\n",
       "                                        genres  \n",
       "0  Adventure|Animation|Children|Comedy|Fantasy  \n",
       "1                   Adventure|Children|Fantasy  \n",
       "2                               Comedy|Romance  \n",
       "3                         Comedy|Drama|Romance  \n",
       "4                                       Comedy  "
      ]
     },
     "execution_count": 26,
     "metadata": {},
     "output_type": "execute_result"
    }
   ],
   "source": [
    "movies.describe()\n",
    "movies.head()\n",
    "\n",
    "#count is 9125"
   ]
  },
  {
   "cell_type": "markdown",
   "metadata": {},
   "source": [
    "### In the following cell, I did 2 things. I created the count of how many ratings the movie had in the variable ratings_count, but now i realize that it was a dumb mistake. What it did was add up all the ratings a movie had. So, for example if it had two ratings of 4.0 and 4.0, this variable added them and gave me 8.0, instead of counting them as 2 seperate ratings. While pondering this, i decided to use average rating as a more effective measure of going forward with this."
   ]
  },
  {
   "cell_type": "code",
   "execution_count": 34,
   "metadata": {},
   "outputs": [
    {
     "data": {
      "text/html": [
       "<div>\n",
       "<style>\n",
       "    .dataframe thead tr:only-child th {\n",
       "        text-align: right;\n",
       "    }\n",
       "\n",
       "    .dataframe thead th {\n",
       "        text-align: left;\n",
       "    }\n",
       "\n",
       "    .dataframe tbody tr th {\n",
       "        vertical-align: top;\n",
       "    }\n",
       "</style>\n",
       "<table border=\"1\" class=\"dataframe\">\n",
       "  <thead>\n",
       "    <tr style=\"text-align: right;\">\n",
       "      <th></th>\n",
       "      <th>movieId</th>\n",
       "      <th>rating</th>\n",
       "      <th>timestamp</th>\n",
       "    </tr>\n",
       "  </thead>\n",
       "  <tbody>\n",
       "    <tr>\n",
       "      <th>count</th>\n",
       "      <td>9066.000000</td>\n",
       "      <td>9066.000000</td>\n",
       "      <td>9.066000e+03</td>\n",
       "    </tr>\n",
       "    <tr>\n",
       "      <th>mean</th>\n",
       "      <td>30772.100044</td>\n",
       "      <td>3.292054</td>\n",
       "      <td>1.186347e+09</td>\n",
       "    </tr>\n",
       "    <tr>\n",
       "      <th>std</th>\n",
       "      <td>40418.420801</td>\n",
       "      <td>0.881968</td>\n",
       "      <td>1.661652e+08</td>\n",
       "    </tr>\n",
       "    <tr>\n",
       "      <th>min</th>\n",
       "      <td>1.000000</td>\n",
       "      <td>0.500000</td>\n",
       "      <td>8.282140e+08</td>\n",
       "    </tr>\n",
       "    <tr>\n",
       "      <th>25%</th>\n",
       "      <td>2829.750000</td>\n",
       "      <td>2.843750</td>\n",
       "      <td>1.043909e+09</td>\n",
       "    </tr>\n",
       "    <tr>\n",
       "      <th>50%</th>\n",
       "      <td>6248.000000</td>\n",
       "      <td>3.500000</td>\n",
       "      <td>1.161659e+09</td>\n",
       "    </tr>\n",
       "    <tr>\n",
       "      <th>75%</th>\n",
       "      <td>55827.500000</td>\n",
       "      <td>3.966250</td>\n",
       "      <td>1.333994e+09</td>\n",
       "    </tr>\n",
       "    <tr>\n",
       "      <th>max</th>\n",
       "      <td>163949.000000</td>\n",
       "      <td>5.000000</td>\n",
       "      <td>1.476588e+09</td>\n",
       "    </tr>\n",
       "  </tbody>\n",
       "</table>\n",
       "</div>"
      ],
      "text/plain": [
       "             movieId       rating     timestamp\n",
       "count    9066.000000  9066.000000  9.066000e+03\n",
       "mean    30772.100044     3.292054  1.186347e+09\n",
       "std     40418.420801     0.881968  1.661652e+08\n",
       "min         1.000000     0.500000  8.282140e+08\n",
       "25%      2829.750000     2.843750  1.043909e+09\n",
       "50%      6248.000000     3.500000  1.161659e+09\n",
       "75%     55827.500000     3.966250  1.333994e+09\n",
       "max    163949.000000     5.000000  1.476588e+09"
      ]
     },
     "execution_count": 34,
     "metadata": {},
     "output_type": "execute_result"
    }
   ],
   "source": [
    "\n",
    "ratings_count = ratings[['movieId', 'rating']].groupby('movieId').count()\n",
    "ratings_count.describe()\n",
    "ratings.head()\n",
    "\n",
    "\n",
    "avg_rating =  pd.DataFrame(ratings.groupby('movieId', as_index=False).mean())\n",
    "avg_rating.isnull().any()   #no null values\n",
    "del avg_rating['userId']\n",
    "# ratings_count.isnull().any()  #no null values\n",
    "\n",
    "# ratings_count.sample(5)\n",
    "avg_rating.sample(5)\n",
    "avg_rating.describe()\n",
    "# avg_rating.isnull().any()   \n",
    "\n",
    "#No empty cells\n"
   ]
  },
  {
   "cell_type": "markdown",
   "metadata": {},
   "source": [
    "**Let's create a new dataframe where we can see movies with their ratings all in one place. we will be merging two data frames. In the last cell, we created a new DataFrame called avg_ratings which is a result of taking the average of the ratings of each movie. We, then merge it with the movies DataFrame where we originally loaded our data set **"
   ]
  },
  {
   "cell_type": "code",
   "execution_count": 372,
   "metadata": {},
   "outputs": [
    {
     "data": {
      "text/html": [
       "<div>\n",
       "<style>\n",
       "    .dataframe thead tr:only-child th {\n",
       "        text-align: right;\n",
       "    }\n",
       "\n",
       "    .dataframe thead th {\n",
       "        text-align: left;\n",
       "    }\n",
       "\n",
       "    .dataframe tbody tr th {\n",
       "        vertical-align: top;\n",
       "    }\n",
       "</style>\n",
       "<table border=\"1\" class=\"dataframe\">\n",
       "  <thead>\n",
       "    <tr style=\"text-align: right;\">\n",
       "      <th></th>\n",
       "      <th>movieId</th>\n",
       "      <th>title</th>\n",
       "      <th>genres</th>\n",
       "      <th>rating</th>\n",
       "    </tr>\n",
       "  </thead>\n",
       "  <tbody>\n",
       "    <tr>\n",
       "      <th>4124</th>\n",
       "      <td>5417</td>\n",
       "      <td>Fast Runner, The (Atanarjuat) (2001)</td>\n",
       "      <td>Drama|Fantasy</td>\n",
       "      <td>3.000000</td>\n",
       "    </tr>\n",
       "    <tr>\n",
       "      <th>6015</th>\n",
       "      <td>31156</td>\n",
       "      <td>Abbott and Costello Meet the Invisible Man (1951)</td>\n",
       "      <td>Comedy|Sci-Fi</td>\n",
       "      <td>3.000000</td>\n",
       "    </tr>\n",
       "    <tr>\n",
       "      <th>2842</th>\n",
       "      <td>3556</td>\n",
       "      <td>Virgin Suicides, The (1999)</td>\n",
       "      <td>Drama|Romance</td>\n",
       "      <td>3.583333</td>\n",
       "    </tr>\n",
       "    <tr>\n",
       "      <th>424</th>\n",
       "      <td>476</td>\n",
       "      <td>Inkwell, The (1994)</td>\n",
       "      <td>Comedy|Drama</td>\n",
       "      <td>4.000000</td>\n",
       "    </tr>\n",
       "    <tr>\n",
       "      <th>564</th>\n",
       "      <td>653</td>\n",
       "      <td>Dragonheart (1996)</td>\n",
       "      <td>Action|Adventure|Fantasy</td>\n",
       "      <td>3.112903</td>\n",
       "    </tr>\n",
       "  </tbody>\n",
       "</table>\n",
       "</div>"
      ],
      "text/plain": [
       "      movieId                                              title  \\\n",
       "4124     5417               Fast Runner, The (Atanarjuat) (2001)   \n",
       "6015    31156  Abbott and Costello Meet the Invisible Man (1951)   \n",
       "2842     3556                        Virgin Suicides, The (1999)   \n",
       "424       476                                Inkwell, The (1994)   \n",
       "564       653                                 Dragonheart (1996)   \n",
       "\n",
       "                        genres    rating  \n",
       "4124             Drama|Fantasy  3.000000  \n",
       "6015             Comedy|Sci-Fi  3.000000  \n",
       "2842             Drama|Romance  3.583333  \n",
       "424               Comedy|Drama  4.000000  \n",
       "564   Action|Adventure|Fantasy  3.112903  "
      ]
     },
     "execution_count": 372,
     "metadata": {},
     "output_type": "execute_result"
    }
   ],
   "source": [
    "movie_ratings = movies.merge(avg_rating, how='outer', on='movieId')\n",
    "# len(movie_ratings)= 9066\n",
    "\n",
    "del movie_ratings['timestamp']\n",
    "\n",
    "#MISSING VALUES \n",
    "movie_ratings.isnull().any()   #ratings has some missing values \n",
    "\n",
    "movie_ratings['movieId'].count()-movie_ratings['rating'].count()\n",
    "    #59 VALUES IN THE RATING COLUMN ARE MISSING \n",
    "    \n",
    "movie_ratings = movie_ratings.dropna()\n",
    "movie_ratings.describe()\n",
    "movie_ratings.sample(5)"
   ]
  },
  {
   "cell_type": "code",
   "execution_count": 44,
   "metadata": {},
   "outputs": [
    {
     "data": {
      "text/html": [
       "<div>\n",
       "<style>\n",
       "    .dataframe thead tr:only-child th {\n",
       "        text-align: right;\n",
       "    }\n",
       "\n",
       "    .dataframe thead th {\n",
       "        text-align: left;\n",
       "    }\n",
       "\n",
       "    .dataframe tbody tr th {\n",
       "        vertical-align: top;\n",
       "    }\n",
       "</style>\n",
       "<table border=\"1\" class=\"dataframe\">\n",
       "  <thead>\n",
       "    <tr style=\"text-align: right;\">\n",
       "      <th></th>\n",
       "      <th>movieId</th>\n",
       "      <th>title</th>\n",
       "      <th>genres</th>\n",
       "      <th>rating</th>\n",
       "    </tr>\n",
       "  </thead>\n",
       "  <tbody>\n",
       "    <tr>\n",
       "      <th>7259</th>\n",
       "      <td>69559</td>\n",
       "      <td>File on Thelma Jordan, The (1950)</td>\n",
       "      <td>Crime|Drama|Film-Noir|Mystery</td>\n",
       "      <td>4.0</td>\n",
       "    </tr>\n",
       "    <tr>\n",
       "      <th>2003</th>\n",
       "      <td>2501</td>\n",
       "      <td>October Sky (1999)</td>\n",
       "      <td>Drama</td>\n",
       "      <td>4.1</td>\n",
       "    </tr>\n",
       "    <tr>\n",
       "      <th>1204</th>\n",
       "      <td>1493</td>\n",
       "      <td>Love and Other Catastrophes (1996)</td>\n",
       "      <td>Romance</td>\n",
       "      <td>4.0</td>\n",
       "    </tr>\n",
       "    <tr>\n",
       "      <th>8778</th>\n",
       "      <td>121231</td>\n",
       "      <td>It Follows (2014)</td>\n",
       "      <td>Horror</td>\n",
       "      <td>4.0</td>\n",
       "    </tr>\n",
       "    <tr>\n",
       "      <th>9118</th>\n",
       "      <td>162376</td>\n",
       "      <td>Stranger Things</td>\n",
       "      <td>Drama</td>\n",
       "      <td>4.5</td>\n",
       "    </tr>\n",
       "  </tbody>\n",
       "</table>\n",
       "</div>"
      ],
      "text/plain": [
       "      movieId                               title  \\\n",
       "7259    69559   File on Thelma Jordan, The (1950)   \n",
       "2003     2501                  October Sky (1999)   \n",
       "1204     1493  Love and Other Catastrophes (1996)   \n",
       "8778   121231                   It Follows (2014)   \n",
       "9118   162376                     Stranger Things   \n",
       "\n",
       "                             genres  rating  \n",
       "7259  Crime|Drama|Film-Noir|Mystery     4.0  \n",
       "2003                          Drama     4.1  \n",
       "1204                        Romance     4.0  \n",
       "8778                         Horror     4.0  \n",
       "9118                          Drama     4.5  "
      ]
     },
     "execution_count": 44,
     "metadata": {},
     "output_type": "execute_result"
    }
   ],
   "source": [
    "high_rated = movie_ratings.loc[movie_ratings['rating'] >= 4.0]\n",
    "# len(high_rated) = 2234\n",
    "high_rated.sample(5)\n"
   ]
  },
  {
   "cell_type": "markdown",
   "metadata": {},
   "source": [
    "## Next i am going to seperate movies based on the decade in which they came out. I am interested in movies that came out after 70s so let's start with 70s"
   ]
  },
  {
   "cell_type": "code",
   "execution_count": 125,
   "metadata": {
    "scrolled": true
   },
   "outputs": [
    {
     "data": {
      "text/html": [
       "<div>\n",
       "<style>\n",
       "    .dataframe thead tr:only-child th {\n",
       "        text-align: right;\n",
       "    }\n",
       "\n",
       "    .dataframe thead th {\n",
       "        text-align: left;\n",
       "    }\n",
       "\n",
       "    .dataframe tbody tr th {\n",
       "        vertical-align: top;\n",
       "    }\n",
       "</style>\n",
       "<table border=\"1\" class=\"dataframe\">\n",
       "  <thead>\n",
       "    <tr style=\"text-align: right;\">\n",
       "      <th></th>\n",
       "      <th>movieId</th>\n",
       "      <th>title</th>\n",
       "      <th>genres</th>\n",
       "      <th>rating</th>\n",
       "    </tr>\n",
       "  </thead>\n",
       "  <tbody>\n",
       "    <tr>\n",
       "      <th>1006</th>\n",
       "      <td>1252</td>\n",
       "      <td>Chinatown (1974)</td>\n",
       "      <td>Crime|Film-Noir|Mystery|Thriller</td>\n",
       "      <td>4.335526</td>\n",
       "    </tr>\n",
       "    <tr>\n",
       "      <th>5605</th>\n",
       "      <td>8923</td>\n",
       "      <td>Tess (1979)</td>\n",
       "      <td>Drama|Romance</td>\n",
       "      <td>4.250000</td>\n",
       "    </tr>\n",
       "    <tr>\n",
       "      <th>6619</th>\n",
       "      <td>50742</td>\n",
       "      <td>7 Plus Seven (1970)</td>\n",
       "      <td>Documentary</td>\n",
       "      <td>4.500000</td>\n",
       "    </tr>\n",
       "    <tr>\n",
       "      <th>1616</th>\n",
       "      <td>2055</td>\n",
       "      <td>Hot Lead and Cold Feet (1978)</td>\n",
       "      <td>Action|Comedy|Western</td>\n",
       "      <td>4.000000</td>\n",
       "    </tr>\n",
       "    <tr>\n",
       "      <th>4774</th>\n",
       "      <td>6725</td>\n",
       "      <td>Sgt. Pepper's Lonely Hearts Club Band (1978)</td>\n",
       "      <td>Adventure|Musical</td>\n",
       "      <td>5.000000</td>\n",
       "    </tr>\n",
       "  </tbody>\n",
       "</table>\n",
       "</div>"
      ],
      "text/plain": [
       "      movieId                                         title  \\\n",
       "1006     1252                              Chinatown (1974)   \n",
       "5605     8923                                   Tess (1979)   \n",
       "6619    50742                           7 Plus Seven (1970)   \n",
       "1616     2055                 Hot Lead and Cold Feet (1978)   \n",
       "4774     6725  Sgt. Pepper's Lonely Hearts Club Band (1978)   \n",
       "\n",
       "                                genres    rating  \n",
       "1006  Crime|Film-Noir|Mystery|Thriller  4.335526  \n",
       "5605                     Drama|Romance  4.250000  \n",
       "6619                       Documentary  4.500000  \n",
       "1616             Action|Comedy|Western  4.000000  \n",
       "4774                 Adventure|Musical  5.000000  "
      ]
     },
     "execution_count": 125,
     "metadata": {},
     "output_type": "execute_result"
    }
   ],
   "source": [
    "all70s = movie_ratings[movie_ratings['title'].str.contains('197')]\n",
    "high_70s = high_rated[high_rated['title'].str.contains('197')]\n",
    "four_70s= high_70s['movieId'].count()/all70s['movieId'].count() *100\n",
    "high_70s.sample(5)\n",
    "# four_70s\n"
   ]
  },
  {
   "cell_type": "code",
   "execution_count": 56,
   "metadata": {},
   "outputs": [
    {
     "data": {
      "text/html": [
       "<div>\n",
       "<style>\n",
       "    .dataframe thead tr:only-child th {\n",
       "        text-align: right;\n",
       "    }\n",
       "\n",
       "    .dataframe thead th {\n",
       "        text-align: left;\n",
       "    }\n",
       "\n",
       "    .dataframe tbody tr th {\n",
       "        vertical-align: top;\n",
       "    }\n",
       "</style>\n",
       "<table border=\"1\" class=\"dataframe\">\n",
       "  <thead>\n",
       "    <tr style=\"text-align: right;\">\n",
       "      <th></th>\n",
       "      <th>movieId</th>\n",
       "      <th>rating</th>\n",
       "    </tr>\n",
       "  </thead>\n",
       "  <tbody>\n",
       "    <tr>\n",
       "      <th>count</th>\n",
       "      <td>548.000000</td>\n",
       "      <td>548.000000</td>\n",
       "    </tr>\n",
       "    <tr>\n",
       "      <th>mean</th>\n",
       "      <td>14175.523723</td>\n",
       "      <td>3.521031</td>\n",
       "    </tr>\n",
       "    <tr>\n",
       "      <th>std</th>\n",
       "      <td>22228.794705</td>\n",
       "      <td>0.791868</td>\n",
       "    </tr>\n",
       "    <tr>\n",
       "      <th>min</th>\n",
       "      <td>111.000000</td>\n",
       "      <td>0.500000</td>\n",
       "    </tr>\n",
       "    <tr>\n",
       "      <th>25%</th>\n",
       "      <td>3097.500000</td>\n",
       "      <td>3.000000</td>\n",
       "    </tr>\n",
       "    <tr>\n",
       "      <th>50%</th>\n",
       "      <td>5346.500000</td>\n",
       "      <td>3.600000</td>\n",
       "    </tr>\n",
       "    <tr>\n",
       "      <th>75%</th>\n",
       "      <td>8557.000000</td>\n",
       "      <td>4.000000</td>\n",
       "    </tr>\n",
       "    <tr>\n",
       "      <th>max</th>\n",
       "      <td>152844.000000</td>\n",
       "      <td>5.000000</td>\n",
       "    </tr>\n",
       "  </tbody>\n",
       "</table>\n",
       "</div>"
      ],
      "text/plain": [
       "             movieId      rating\n",
       "count     548.000000  548.000000\n",
       "mean    14175.523723    3.521031\n",
       "std     22228.794705    0.791868\n",
       "min       111.000000    0.500000\n",
       "25%      3097.500000    3.000000\n",
       "50%      5346.500000    3.600000\n",
       "75%      8557.000000    4.000000\n",
       "max    152844.000000    5.000000"
      ]
     },
     "execution_count": 56,
     "metadata": {},
     "output_type": "execute_result"
    }
   ],
   "source": [
    "all70s.describe()"
   ]
  },
  {
   "cell_type": "code",
   "execution_count": 57,
   "metadata": {},
   "outputs": [
    {
     "data": {
      "text/html": [
       "<div>\n",
       "<style>\n",
       "    .dataframe thead tr:only-child th {\n",
       "        text-align: right;\n",
       "    }\n",
       "\n",
       "    .dataframe thead th {\n",
       "        text-align: left;\n",
       "    }\n",
       "\n",
       "    .dataframe tbody tr th {\n",
       "        vertical-align: top;\n",
       "    }\n",
       "</style>\n",
       "<table border=\"1\" class=\"dataframe\">\n",
       "  <thead>\n",
       "    <tr style=\"text-align: right;\">\n",
       "      <th></th>\n",
       "      <th>movieId</th>\n",
       "      <th>rating</th>\n",
       "    </tr>\n",
       "  </thead>\n",
       "  <tbody>\n",
       "    <tr>\n",
       "      <th>count</th>\n",
       "      <td>188.000000</td>\n",
       "      <td>188.000000</td>\n",
       "    </tr>\n",
       "    <tr>\n",
       "      <th>mean</th>\n",
       "      <td>20305.468085</td>\n",
       "      <td>4.267447</td>\n",
       "    </tr>\n",
       "    <tr>\n",
       "      <th>std</th>\n",
       "      <td>28492.442872</td>\n",
       "      <td>0.332293</td>\n",
       "    </tr>\n",
       "    <tr>\n",
       "      <th>min</th>\n",
       "      <td>111.000000</td>\n",
       "      <td>4.000000</td>\n",
       "    </tr>\n",
       "    <tr>\n",
       "      <th>25%</th>\n",
       "      <td>3507.000000</td>\n",
       "      <td>4.000000</td>\n",
       "    </tr>\n",
       "    <tr>\n",
       "      <th>50%</th>\n",
       "      <td>6519.500000</td>\n",
       "      <td>4.115385</td>\n",
       "    </tr>\n",
       "    <tr>\n",
       "      <th>75%</th>\n",
       "      <td>26415.250000</td>\n",
       "      <td>4.500000</td>\n",
       "    </tr>\n",
       "    <tr>\n",
       "      <th>max</th>\n",
       "      <td>152844.000000</td>\n",
       "      <td>5.000000</td>\n",
       "    </tr>\n",
       "  </tbody>\n",
       "</table>\n",
       "</div>"
      ],
      "text/plain": [
       "             movieId      rating\n",
       "count     188.000000  188.000000\n",
       "mean    20305.468085    4.267447\n",
       "std     28492.442872    0.332293\n",
       "min       111.000000    4.000000\n",
       "25%      3507.000000    4.000000\n",
       "50%      6519.500000    4.115385\n",
       "75%     26415.250000    4.500000\n",
       "max    152844.000000    5.000000"
      ]
     },
     "execution_count": 57,
     "metadata": {},
     "output_type": "execute_result"
    }
   ],
   "source": [
    "high_70s.describe()"
   ]
  },
  {
   "cell_type": "markdown",
   "metadata": {},
   "source": [
    "**Based on these two tables of the, we are going to take a look at the movies listed in the dataset. Based on the filters, we created we have isolated the movies that were released in 70s,80s(all70s and all80s variables respectively) and then movies released in these decades whose average rating is atleast a 4.0(high_70s and high_80s variables respectively)  **\n",
    "\n"
   ]
  },
  {
   "cell_type": "code",
   "execution_count": 127,
   "metadata": {},
   "outputs": [
    {
     "name": "stdout",
     "output_type": "stream",
     "text": [
      "All movies released in the 1970s =  548 \n",
      "\n",
      "Movies of 70s with atleast a 4.0 rating = 188 \n",
      "\n",
      "Of all the movies released in the 1970s 34.3065693431 % were rated at least a 4.0 or above\n"
     ]
    }
   ],
   "source": [
    "print('All movies released in the 1970s = ', all70s['movieId'].count(),'\\n')\n",
    "print('Movies of 70s with atleast a 4.0 rating =',high_70s['movieId'].count(),'\\n')\n",
    "\n",
    "\n",
    "print('Of all the movies released in the 1970s',four_70s,'% were rated at least a 4.0 or above')\n"
   ]
  },
  {
   "cell_type": "markdown",
   "metadata": {},
   "source": [
    "## Ahh...the 80s. Let's see what you hold "
   ]
  },
  {
   "cell_type": "code",
   "execution_count": 129,
   "metadata": {},
   "outputs": [
    {
     "data": {
      "text/html": [
       "<div>\n",
       "<style>\n",
       "    .dataframe thead tr:only-child th {\n",
       "        text-align: right;\n",
       "    }\n",
       "\n",
       "    .dataframe thead th {\n",
       "        text-align: left;\n",
       "    }\n",
       "\n",
       "    .dataframe tbody tr th {\n",
       "        vertical-align: top;\n",
       "    }\n",
       "</style>\n",
       "<table border=\"1\" class=\"dataframe\">\n",
       "  <thead>\n",
       "    <tr style=\"text-align: right;\">\n",
       "      <th></th>\n",
       "      <th>movieId</th>\n",
       "      <th>title</th>\n",
       "      <th>genres</th>\n",
       "      <th>rating</th>\n",
       "    </tr>\n",
       "  </thead>\n",
       "  <tbody>\n",
       "    <tr>\n",
       "      <th>3697</th>\n",
       "      <td>4717</td>\n",
       "      <td>Battle Creek Brawl (Big Brawl, The) (1980)</td>\n",
       "      <td>Action|Comedy</td>\n",
       "      <td>5.0</td>\n",
       "    </tr>\n",
       "    <tr>\n",
       "      <th>1925</th>\n",
       "      <td>2415</td>\n",
       "      <td>Violets Are Blue... (1986)</td>\n",
       "      <td>Drama|Romance</td>\n",
       "      <td>4.0</td>\n",
       "    </tr>\n",
       "    <tr>\n",
       "      <th>6526</th>\n",
       "      <td>48165</td>\n",
       "      <td>Seventh Continent, The (Der siebente Kontinent...</td>\n",
       "      <td>Drama</td>\n",
       "      <td>4.5</td>\n",
       "    </tr>\n",
       "    <tr>\n",
       "      <th>3633</th>\n",
       "      <td>4626</td>\n",
       "      <td>Miracle Mile (1989)</td>\n",
       "      <td>Drama|Romance|Sci-Fi</td>\n",
       "      <td>5.0</td>\n",
       "    </tr>\n",
       "    <tr>\n",
       "      <th>2983</th>\n",
       "      <td>3731</td>\n",
       "      <td>Cutter's Way (1981)</td>\n",
       "      <td>Drama|Thriller</td>\n",
       "      <td>4.0</td>\n",
       "    </tr>\n",
       "  </tbody>\n",
       "</table>\n",
       "</div>"
      ],
      "text/plain": [
       "      movieId                                              title  \\\n",
       "3697     4717         Battle Creek Brawl (Big Brawl, The) (1980)   \n",
       "1925     2415                         Violets Are Blue... (1986)   \n",
       "6526    48165  Seventh Continent, The (Der siebente Kontinent...   \n",
       "3633     4626                                Miracle Mile (1989)   \n",
       "2983     3731                                Cutter's Way (1981)   \n",
       "\n",
       "                    genres  rating  \n",
       "3697         Action|Comedy     5.0  \n",
       "1925         Drama|Romance     4.0  \n",
       "6526                 Drama     4.5  \n",
       "3633  Drama|Romance|Sci-Fi     5.0  \n",
       "2983        Drama|Thriller     4.0  "
      ]
     },
     "execution_count": 129,
     "metadata": {},
     "output_type": "execute_result"
    }
   ],
   "source": [
    "all80s = movie_ratings[movie_ratings['title'].str.contains('198')]\n",
    "high_80s = high_rated[high_rated['title'].str.contains('198')]\n",
    "four_80s =high_80s['movieId'].count()/all80s['movieId'].count()*100\n",
    "high_80s.sample(5)\n",
    "# four_80s\n",
    "\n"
   ]
  },
  {
   "cell_type": "code",
   "execution_count": 81,
   "metadata": {},
   "outputs": [
    {
     "data": {
      "text/html": [
       "<div>\n",
       "<style>\n",
       "    .dataframe thead tr:only-child th {\n",
       "        text-align: right;\n",
       "    }\n",
       "\n",
       "    .dataframe thead th {\n",
       "        text-align: left;\n",
       "    }\n",
       "\n",
       "    .dataframe tbody tr th {\n",
       "        vertical-align: top;\n",
       "    }\n",
       "</style>\n",
       "<table border=\"1\" class=\"dataframe\">\n",
       "  <thead>\n",
       "    <tr style=\"text-align: right;\">\n",
       "      <th></th>\n",
       "      <th>movieId</th>\n",
       "      <th>rating</th>\n",
       "    </tr>\n",
       "  </thead>\n",
       "  <tbody>\n",
       "    <tr>\n",
       "      <th>count</th>\n",
       "      <td>1198.000000</td>\n",
       "      <td>1198.000000</td>\n",
       "    </tr>\n",
       "    <tr>\n",
       "      <th>mean</th>\n",
       "      <td>7813.555092</td>\n",
       "      <td>3.301355</td>\n",
       "    </tr>\n",
       "    <tr>\n",
       "      <th>std</th>\n",
       "      <td>16134.495147</td>\n",
       "      <td>0.855235</td>\n",
       "    </tr>\n",
       "    <tr>\n",
       "      <th>min</th>\n",
       "      <td>541.000000</td>\n",
       "      <td>0.500000</td>\n",
       "    </tr>\n",
       "    <tr>\n",
       "      <th>25%</th>\n",
       "      <td>2531.500000</td>\n",
       "      <td>2.902273</td>\n",
       "    </tr>\n",
       "    <tr>\n",
       "      <th>50%</th>\n",
       "      <td>4115.500000</td>\n",
       "      <td>3.500000</td>\n",
       "    </tr>\n",
       "    <tr>\n",
       "      <th>75%</th>\n",
       "      <td>5551.750000</td>\n",
       "      <td>3.935069</td>\n",
       "    </tr>\n",
       "    <tr>\n",
       "      <th>max</th>\n",
       "      <td>159462.000000</td>\n",
       "      <td>5.000000</td>\n",
       "    </tr>\n",
       "  </tbody>\n",
       "</table>\n",
       "</div>"
      ],
      "text/plain": [
       "             movieId       rating\n",
       "count    1198.000000  1198.000000\n",
       "mean     7813.555092     3.301355\n",
       "std     16134.495147     0.855235\n",
       "min       541.000000     0.500000\n",
       "25%      2531.500000     2.902273\n",
       "50%      4115.500000     3.500000\n",
       "75%      5551.750000     3.935069\n",
       "max    159462.000000     5.000000"
      ]
     },
     "execution_count": 81,
     "metadata": {},
     "output_type": "execute_result"
    }
   ],
   "source": [
    "all80s.describe()"
   ]
  },
  {
   "cell_type": "code",
   "execution_count": 84,
   "metadata": {},
   "outputs": [
    {
     "data": {
      "text/html": [
       "<div>\n",
       "<style>\n",
       "    .dataframe thead tr:only-child th {\n",
       "        text-align: right;\n",
       "    }\n",
       "\n",
       "    .dataframe thead th {\n",
       "        text-align: left;\n",
       "    }\n",
       "\n",
       "    .dataframe tbody tr th {\n",
       "        vertical-align: top;\n",
       "    }\n",
       "</style>\n",
       "<table border=\"1\" class=\"dataframe\">\n",
       "  <thead>\n",
       "    <tr style=\"text-align: right;\">\n",
       "      <th></th>\n",
       "      <th>movieId</th>\n",
       "      <th>rating</th>\n",
       "    </tr>\n",
       "  </thead>\n",
       "  <tbody>\n",
       "    <tr>\n",
       "      <th>count</th>\n",
       "      <td>283.000000</td>\n",
       "      <td>283.000000</td>\n",
       "    </tr>\n",
       "    <tr>\n",
       "      <th>mean</th>\n",
       "      <td>11627.339223</td>\n",
       "      <td>4.254628</td>\n",
       "    </tr>\n",
       "    <tr>\n",
       "      <th>std</th>\n",
       "      <td>21262.932892</td>\n",
       "      <td>0.345742</td>\n",
       "    </tr>\n",
       "    <tr>\n",
       "      <th>min</th>\n",
       "      <td>541.000000</td>\n",
       "      <td>4.000000</td>\n",
       "    </tr>\n",
       "    <tr>\n",
       "      <th>25%</th>\n",
       "      <td>3139.000000</td>\n",
       "      <td>4.000000</td>\n",
       "    </tr>\n",
       "    <tr>\n",
       "      <th>50%</th>\n",
       "      <td>4567.000000</td>\n",
       "      <td>4.052632</td>\n",
       "    </tr>\n",
       "    <tr>\n",
       "      <th>75%</th>\n",
       "      <td>6124.000000</td>\n",
       "      <td>4.500000</td>\n",
       "    </tr>\n",
       "    <tr>\n",
       "      <th>max</th>\n",
       "      <td>128846.000000</td>\n",
       "      <td>5.000000</td>\n",
       "    </tr>\n",
       "  </tbody>\n",
       "</table>\n",
       "</div>"
      ],
      "text/plain": [
       "             movieId      rating\n",
       "count     283.000000  283.000000\n",
       "mean    11627.339223    4.254628\n",
       "std     21262.932892    0.345742\n",
       "min       541.000000    4.000000\n",
       "25%      3139.000000    4.000000\n",
       "50%      4567.000000    4.052632\n",
       "75%      6124.000000    4.500000\n",
       "max    128846.000000    5.000000"
      ]
     },
     "execution_count": 84,
     "metadata": {},
     "output_type": "execute_result"
    }
   ],
   "source": [
    "high_80s.describe()"
   ]
  },
  {
   "cell_type": "code",
   "execution_count": 132,
   "metadata": {},
   "outputs": [
    {
     "name": "stdout",
     "output_type": "stream",
     "text": [
      "Total number of movies that came out in the 1980s = 1198 \n",
      "\n",
      "Movies of the 80s with average rating of atleast 4.0= 283 \n",
      "\n",
      "Of all the movies released in the 1980s 23.6227045075 % had an average rating of atleast 4.0 or above\n"
     ]
    }
   ],
   "source": [
    "print('Total number of movies that came out in the 1980s =', all80s['movieId'].count(),'\\n')\n",
    "print('Movies of the 80s with average rating of atleast 4.0=', high_80s['movieId'].count(),'\\n')\n",
    "print('Of all the movies released in the 1980s', four_80s,'% had an average rating of atleast 4.0 or above')"
   ]
  },
  {
   "cell_type": "markdown",
   "metadata": {},
   "source": [
    "### Just for fun, let's do a quick run of the 90s "
   ]
  },
  {
   "cell_type": "code",
   "execution_count": 174,
   "metadata": {},
   "outputs": [
    {
     "data": {
      "text/html": [
       "<div>\n",
       "<style>\n",
       "    .dataframe thead tr:only-child th {\n",
       "        text-align: right;\n",
       "    }\n",
       "\n",
       "    .dataframe thead th {\n",
       "        text-align: left;\n",
       "    }\n",
       "\n",
       "    .dataframe tbody tr th {\n",
       "        vertical-align: top;\n",
       "    }\n",
       "</style>\n",
       "<table border=\"1\" class=\"dataframe\">\n",
       "  <thead>\n",
       "    <tr style=\"text-align: right;\">\n",
       "      <th></th>\n",
       "      <th>movieId</th>\n",
       "      <th>title</th>\n",
       "      <th>genres</th>\n",
       "      <th>rating</th>\n",
       "    </tr>\n",
       "  </thead>\n",
       "  <tbody>\n",
       "    <tr>\n",
       "      <th>8932</th>\n",
       "      <td>136445</td>\n",
       "      <td>George Carlin: Back in Town (1996)</td>\n",
       "      <td>Comedy</td>\n",
       "      <td>5.0</td>\n",
       "    </tr>\n",
       "    <tr>\n",
       "      <th>162</th>\n",
       "      <td>184</td>\n",
       "      <td>Nadja (1994)</td>\n",
       "      <td>Drama</td>\n",
       "      <td>4.5</td>\n",
       "    </tr>\n",
       "    <tr>\n",
       "      <th>1326</th>\n",
       "      <td>1669</td>\n",
       "      <td>Tango Lesson, The (1997)</td>\n",
       "      <td>Romance</td>\n",
       "      <td>4.0</td>\n",
       "    </tr>\n",
       "    <tr>\n",
       "      <th>1814</th>\n",
       "      <td>2292</td>\n",
       "      <td>Overnight Delivery (1998)</td>\n",
       "      <td>Comedy|Romance</td>\n",
       "      <td>4.0</td>\n",
       "    </tr>\n",
       "    <tr>\n",
       "      <th>8108</th>\n",
       "      <td>96004</td>\n",
       "      <td>Dragon Ball Z: The History of Trunks (Doragon ...</td>\n",
       "      <td>Action|Adventure|Animation</td>\n",
       "      <td>4.0</td>\n",
       "    </tr>\n",
       "  </tbody>\n",
       "</table>\n",
       "</div>"
      ],
      "text/plain": [
       "      movieId                                              title  \\\n",
       "8932   136445                 George Carlin: Back in Town (1996)   \n",
       "162       184                                       Nadja (1994)   \n",
       "1326     1669                           Tango Lesson, The (1997)   \n",
       "1814     2292                          Overnight Delivery (1998)   \n",
       "8108    96004  Dragon Ball Z: The History of Trunks (Doragon ...   \n",
       "\n",
       "                          genres  rating  \n",
       "8932                      Comedy     5.0  \n",
       "162                        Drama     4.5  \n",
       "1326                     Romance     4.0  \n",
       "1814              Comedy|Romance     4.0  \n",
       "8108  Action|Adventure|Animation     4.0  "
      ]
     },
     "execution_count": 174,
     "metadata": {},
     "output_type": "execute_result"
    }
   ],
   "source": [
    "all90s = movie_ratings[movie_ratings['title'].str.contains('199')]\n",
    "high_90s = high_rated[high_rated['title'].str.contains('199')]\n",
    "four_90s=  high_90s['movieId'].count()/all90s['movieId'].count()*100\n",
    "high_90s.sample(5)\n",
    "# four_90s"
   ]
  },
  {
   "cell_type": "code",
   "execution_count": 175,
   "metadata": {},
   "outputs": [
    {
     "data": {
      "text/html": [
       "<div>\n",
       "<style>\n",
       "    .dataframe thead tr:only-child th {\n",
       "        text-align: right;\n",
       "    }\n",
       "\n",
       "    .dataframe thead th {\n",
       "        text-align: left;\n",
       "    }\n",
       "\n",
       "    .dataframe tbody tr th {\n",
       "        vertical-align: top;\n",
       "    }\n",
       "</style>\n",
       "<table border=\"1\" class=\"dataframe\">\n",
       "  <thead>\n",
       "    <tr style=\"text-align: right;\">\n",
       "      <th></th>\n",
       "      <th>movieId</th>\n",
       "      <th>rating</th>\n",
       "    </tr>\n",
       "  </thead>\n",
       "  <tbody>\n",
       "    <tr>\n",
       "      <th>count</th>\n",
       "      <td>2207.000000</td>\n",
       "      <td>2207.000000</td>\n",
       "    </tr>\n",
       "    <tr>\n",
       "      <th>mean</th>\n",
       "      <td>5890.137290</td>\n",
       "      <td>3.252825</td>\n",
       "    </tr>\n",
       "    <tr>\n",
       "      <th>std</th>\n",
       "      <td>17138.674662</td>\n",
       "      <td>0.811861</td>\n",
       "    </tr>\n",
       "    <tr>\n",
       "      <th>min</th>\n",
       "      <td>1.000000</td>\n",
       "      <td>0.500000</td>\n",
       "    </tr>\n",
       "    <tr>\n",
       "      <th>25%</th>\n",
       "      <td>658.500000</td>\n",
       "      <td>2.857143</td>\n",
       "    </tr>\n",
       "    <tr>\n",
       "      <th>50%</th>\n",
       "      <td>1824.000000</td>\n",
       "      <td>3.333333</td>\n",
       "    </tr>\n",
       "    <tr>\n",
       "      <th>75%</th>\n",
       "      <td>3210.500000</td>\n",
       "      <td>3.800000</td>\n",
       "    </tr>\n",
       "    <tr>\n",
       "      <th>max</th>\n",
       "      <td>145307.000000</td>\n",
       "      <td>5.000000</td>\n",
       "    </tr>\n",
       "  </tbody>\n",
       "</table>\n",
       "</div>"
      ],
      "text/plain": [
       "             movieId       rating\n",
       "count    2207.000000  2207.000000\n",
       "mean     5890.137290     3.252825\n",
       "std     17138.674662     0.811861\n",
       "min         1.000000     0.500000\n",
       "25%       658.500000     2.857143\n",
       "50%      1824.000000     3.333333\n",
       "75%      3210.500000     3.800000\n",
       "max    145307.000000     5.000000"
      ]
     },
     "execution_count": 175,
     "metadata": {},
     "output_type": "execute_result"
    }
   ],
   "source": [
    "all90s.describe()"
   ]
  },
  {
   "cell_type": "code",
   "execution_count": 176,
   "metadata": {},
   "outputs": [
    {
     "data": {
      "text/html": [
       "<div>\n",
       "<style>\n",
       "    .dataframe thead tr:only-child th {\n",
       "        text-align: right;\n",
       "    }\n",
       "\n",
       "    .dataframe thead th {\n",
       "        text-align: left;\n",
       "    }\n",
       "\n",
       "    .dataframe tbody tr th {\n",
       "        vertical-align: top;\n",
       "    }\n",
       "</style>\n",
       "<table border=\"1\" class=\"dataframe\">\n",
       "  <thead>\n",
       "    <tr style=\"text-align: right;\">\n",
       "      <th></th>\n",
       "      <th>movieId</th>\n",
       "      <th>rating</th>\n",
       "    </tr>\n",
       "  </thead>\n",
       "  <tbody>\n",
       "    <tr>\n",
       "      <th>count</th>\n",
       "      <td>419.000000</td>\n",
       "      <td>419.000000</td>\n",
       "    </tr>\n",
       "    <tr>\n",
       "      <th>mean</th>\n",
       "      <td>12462.842482</td>\n",
       "      <td>4.289277</td>\n",
       "    </tr>\n",
       "    <tr>\n",
       "      <th>std</th>\n",
       "      <td>27966.468530</td>\n",
       "      <td>0.361356</td>\n",
       "    </tr>\n",
       "    <tr>\n",
       "      <th>min</th>\n",
       "      <td>26.000000</td>\n",
       "      <td>4.000000</td>\n",
       "    </tr>\n",
       "    <tr>\n",
       "      <th>25%</th>\n",
       "      <td>824.000000</td>\n",
       "      <td>4.000000</td>\n",
       "    </tr>\n",
       "    <tr>\n",
       "      <th>50%</th>\n",
       "      <td>2357.000000</td>\n",
       "      <td>4.120000</td>\n",
       "    </tr>\n",
       "    <tr>\n",
       "      <th>75%</th>\n",
       "      <td>6200.500000</td>\n",
       "      <td>4.500000</td>\n",
       "    </tr>\n",
       "    <tr>\n",
       "      <th>max</th>\n",
       "      <td>141886.000000</td>\n",
       "      <td>5.000000</td>\n",
       "    </tr>\n",
       "  </tbody>\n",
       "</table>\n",
       "</div>"
      ],
      "text/plain": [
       "             movieId      rating\n",
       "count     419.000000  419.000000\n",
       "mean    12462.842482    4.289277\n",
       "std     27966.468530    0.361356\n",
       "min        26.000000    4.000000\n",
       "25%       824.000000    4.000000\n",
       "50%      2357.000000    4.120000\n",
       "75%      6200.500000    4.500000\n",
       "max    141886.000000    5.000000"
      ]
     },
     "execution_count": 176,
     "metadata": {},
     "output_type": "execute_result"
    }
   ],
   "source": [
    "high_90s.describe()"
   ]
  },
  {
   "cell_type": "code",
   "execution_count": 177,
   "metadata": {},
   "outputs": [
    {
     "name": "stdout",
     "output_type": "stream",
     "text": [
      "Total number of movies that came out in the 1990s = 2207 \n",
      "\n",
      "Movies of the 90s with average rating of atleast 4.0= 419 \n",
      "\n",
      "Of all the movies released in the 1990s 18.9850475759 % had an average rating of atleast 4.0 or above\n"
     ]
    }
   ],
   "source": [
    "print('Total number of movies that came out in the 1990s =', all90s['movieId'].count(),'\\n')\n",
    "print('Movies of the 90s with average rating of atleast 4.0=', high_90s['movieId'].count(),'\\n')\n",
    "print('Of all the movies released in the 1990s',four_90s,'% had an average rating of atleast 4.0 or above')"
   ]
  },
  {
   "cell_type": "markdown",
   "metadata": {},
   "source": [
    "### Let's make a pretty table where we can see the number of movies released in each decade, and what percentage of those were rated a 4.0 or above"
   ]
  },
  {
   "cell_type": "code",
   "execution_count": 178,
   "metadata": {},
   "outputs": [
    {
     "data": {
      "text/plain": [
       "{'70s': total movies               548.000000\n",
       " >=4.0                      188.000000\n",
       " % rated higher than 4.0     34.306569\n",
       " dtype: float64, '80s': total movies               1198.000000\n",
       " >=4.0                       283.000000\n",
       " % rated higher than 4.0      23.622705\n",
       " dtype: float64, '90s': total movies               2207.000000\n",
       " >=4.0                       419.000000\n",
       " % rated higher than 4.0      18.985048\n",
       " dtype: float64}"
      ]
     },
     "execution_count": 178,
     "metadata": {},
     "output_type": "execute_result"
    }
   ],
   "source": [
    "bigTable = {'70s': pd.Series([all70s['movieId'].count(),high_70s['movieId'].count(),four_70s],index=['total movies', '>=4.0', '% rated higher than 4.0']),\n",
    "           \n",
    "           '80s':pd.Series([all80s['movieId'].count(),high_80s['movieId'].count(),four_80s], index=['total movies','>=4.0','% rated higher than 4.0']),\n",
    "            \n",
    "           '90s':pd.Series([all90s['movieId'].count(),high_90s['movieId'].count(),four_90s], index=['total movies','>=4.0','% rated higher than 4.0'])\n",
    "           }\n",
    "\n",
    "bigTable"
   ]
  },
  {
   "cell_type": "code",
   "execution_count": 179,
   "metadata": {},
   "outputs": [
    {
     "data": {
      "text/html": [
       "<div>\n",
       "<style>\n",
       "    .dataframe thead tr:only-child th {\n",
       "        text-align: right;\n",
       "    }\n",
       "\n",
       "    .dataframe thead th {\n",
       "        text-align: left;\n",
       "    }\n",
       "\n",
       "    .dataframe tbody tr th {\n",
       "        vertical-align: top;\n",
       "    }\n",
       "</style>\n",
       "<table border=\"1\" class=\"dataframe\">\n",
       "  <thead>\n",
       "    <tr style=\"text-align: right;\">\n",
       "      <th></th>\n",
       "      <th>70s</th>\n",
       "      <th>80s</th>\n",
       "      <th>90s</th>\n",
       "    </tr>\n",
       "  </thead>\n",
       "  <tbody>\n",
       "    <tr>\n",
       "      <th>total movies</th>\n",
       "      <td>548.000000</td>\n",
       "      <td>1198.000000</td>\n",
       "      <td>2207.000000</td>\n",
       "    </tr>\n",
       "    <tr>\n",
       "      <th>&gt;=4.0</th>\n",
       "      <td>188.000000</td>\n",
       "      <td>283.000000</td>\n",
       "      <td>419.000000</td>\n",
       "    </tr>\n",
       "    <tr>\n",
       "      <th>% rated higher than 4.0</th>\n",
       "      <td>34.306569</td>\n",
       "      <td>23.622705</td>\n",
       "      <td>18.985048</td>\n",
       "    </tr>\n",
       "  </tbody>\n",
       "</table>\n",
       "</div>"
      ],
      "text/plain": [
       "                                70s          80s          90s\n",
       "total movies             548.000000  1198.000000  2207.000000\n",
       ">=4.0                    188.000000   283.000000   419.000000\n",
       "% rated higher than 4.0   34.306569    23.622705    18.985048"
      ]
     },
     "execution_count": 179,
     "metadata": {},
     "output_type": "execute_result"
    }
   ],
   "source": [
    "movie_table = pd.DataFrame(bigTable)\n",
    "movie_table\n",
    "\n",
    "# movie_table.hist(column= '70s',figsize=(10,15))"
   ]
  },
  {
   "cell_type": "code",
   "execution_count": 180,
   "metadata": {},
   "outputs": [
    {
     "data": {
      "text/plain": [
       "<matplotlib.axes._subplots.AxesSubplot at 0x7f2f0f8299e8>"
      ]
     },
     "execution_count": 180,
     "metadata": {},
     "output_type": "execute_result"
    },
    {
     "data": {
      "image/png": "[encoded data removed]",
      "text/plain": [
       "<matplotlib.figure.Figure at 0x7f2f0f990e10>"
      ]
     },
     "metadata": {},
     "output_type": "display_data"
    }
   ],
   "source": [
    "movie_table.plot(kind='bar', figsize=(5,5))"
   ]
  },
  {
   "cell_type": "markdown",
   "metadata": {},
   "source": [
    "# Based on this analysis presented in this notebook, we can surmise a few things, that about the three successive decades of 70s to 90s.\n",
    "\n",
    "* The 80s and 90s were busier decades for movies than the 70s. The number of movies double each decade from 548 in the 70s to 1198 in the 80s to 2207 in the 90s. \n",
    "* As we can see in the bar graph, 90s was definitely not the decade for critical love for movies, as only 18.98% of 2207 theatrically released films recieved atleast a 4.0 out of 5 point rating. \n",
    "* The 70s come out as clear winner. 34.306% of 548 theatrically released movies recieved an average rating of 4.0 or more out of 5 point rating.\n"
   ]
  },
  {
   "cell_type": "markdown",
   "metadata": {},
   "source": [
    "# SCI-FI GENRE AND THE 2010s"
   ]
  },
  {
   "cell_type": "code",
   "execution_count": 191,
   "metadata": {},
   "outputs": [
    {
     "data": {
      "text/html": [
       "<div>\n",
       "<style>\n",
       "    .dataframe thead tr:only-child th {\n",
       "        text-align: right;\n",
       "    }\n",
       "\n",
       "    .dataframe thead th {\n",
       "        text-align: left;\n",
       "    }\n",
       "\n",
       "    .dataframe tbody tr th {\n",
       "        vertical-align: top;\n",
       "    }\n",
       "</style>\n",
       "<table border=\"1\" class=\"dataframe\">\n",
       "  <thead>\n",
       "    <tr style=\"text-align: right;\">\n",
       "      <th></th>\n",
       "      <th>movieId</th>\n",
       "      <th>title</th>\n",
       "      <th>genres</th>\n",
       "      <th>rating</th>\n",
       "    </tr>\n",
       "  </thead>\n",
       "  <tbody>\n",
       "    <tr>\n",
       "      <th>1502</th>\n",
       "      <td>1940</td>\n",
       "      <td>Gentleman's Agreement (1947)</td>\n",
       "      <td>Drama</td>\n",
       "      <td>4.071429</td>\n",
       "    </tr>\n",
       "    <tr>\n",
       "      <th>3120</th>\n",
       "      <td>3908</td>\n",
       "      <td>Urban Legends: Final Cut (2000)</td>\n",
       "      <td>Horror</td>\n",
       "      <td>2.900000</td>\n",
       "    </tr>\n",
       "    <tr>\n",
       "      <th>3474</th>\n",
       "      <td>4390</td>\n",
       "      <td>Rape Me (Baise-moi) (2000)</td>\n",
       "      <td>Crime|Drama|Thriller</td>\n",
       "      <td>3.000000</td>\n",
       "    </tr>\n",
       "    <tr>\n",
       "      <th>5653</th>\n",
       "      <td>9005</td>\n",
       "      <td>Fire in the Sky (1993)</td>\n",
       "      <td>Drama|Mystery|Sci-Fi</td>\n",
       "      <td>2.500000</td>\n",
       "    </tr>\n",
       "    <tr>\n",
       "      <th>7488</th>\n",
       "      <td>75349</td>\n",
       "      <td>Teenage Caveman (2002)</td>\n",
       "      <td>Horror|Sci-Fi|Thriller</td>\n",
       "      <td>2.500000</td>\n",
       "    </tr>\n",
       "    <tr>\n",
       "      <th>8978</th>\n",
       "      <td>140741</td>\n",
       "      <td>Get Your Stuff (2000)</td>\n",
       "      <td>Drama|Romance</td>\n",
       "      <td>5.000000</td>\n",
       "    </tr>\n",
       "    <tr>\n",
       "      <th>128</th>\n",
       "      <td>149</td>\n",
       "      <td>Amateur (1994)</td>\n",
       "      <td>Crime|Drama|Thriller</td>\n",
       "      <td>4.333333</td>\n",
       "    </tr>\n",
       "    <tr>\n",
       "      <th>8866</th>\n",
       "      <td>131451</td>\n",
       "      <td>The Atticus Institute (2015)</td>\n",
       "      <td>Horror</td>\n",
       "      <td>1.000000</td>\n",
       "    </tr>\n",
       "    <tr>\n",
       "      <th>2733</th>\n",
       "      <td>3427</td>\n",
       "      <td>Coogan's Bluff (1968)</td>\n",
       "      <td>Crime</td>\n",
       "      <td>1.500000</td>\n",
       "    </tr>\n",
       "    <tr>\n",
       "      <th>1233</th>\n",
       "      <td>1543</td>\n",
       "      <td>Designated Mourner, The (1997)</td>\n",
       "      <td>Drama</td>\n",
       "      <td>5.000000</td>\n",
       "    </tr>\n",
       "  </tbody>\n",
       "</table>\n",
       "</div>"
      ],
      "text/plain": [
       "      movieId                            title                  genres  \\\n",
       "1502     1940     Gentleman's Agreement (1947)                   Drama   \n",
       "3120     3908  Urban Legends: Final Cut (2000)                  Horror   \n",
       "3474     4390       Rape Me (Baise-moi) (2000)    Crime|Drama|Thriller   \n",
       "5653     9005           Fire in the Sky (1993)    Drama|Mystery|Sci-Fi   \n",
       "7488    75349           Teenage Caveman (2002)  Horror|Sci-Fi|Thriller   \n",
       "8978   140741            Get Your Stuff (2000)           Drama|Romance   \n",
       "128       149                   Amateur (1994)    Crime|Drama|Thriller   \n",
       "8866   131451     The Atticus Institute (2015)                  Horror   \n",
       "2733     3427            Coogan's Bluff (1968)                   Crime   \n",
       "1233     1543   Designated Mourner, The (1997)                   Drama   \n",
       "\n",
       "        rating  \n",
       "1502  4.071429  \n",
       "3120  2.900000  \n",
       "3474  3.000000  \n",
       "5653  2.500000  \n",
       "7488  2.500000  \n",
       "8978  5.000000  \n",
       "128   4.333333  \n",
       "8866  1.000000  \n",
       "2733  1.500000  \n",
       "1233  5.000000  "
      ]
     },
     "execution_count": 191,
     "metadata": {},
     "output_type": "execute_result"
    }
   ],
   "source": [
    "movie_ratings.sample(10)"
   ]
  },
  {
   "cell_type": "code",
   "execution_count": 187,
   "metadata": {},
   "outputs": [
    {
     "data": {
      "text/html": [
       "<div>\n",
       "<style>\n",
       "    .dataframe thead tr:only-child th {\n",
       "        text-align: right;\n",
       "    }\n",
       "\n",
       "    .dataframe thead th {\n",
       "        text-align: left;\n",
       "    }\n",
       "\n",
       "    .dataframe tbody tr th {\n",
       "        vertical-align: top;\n",
       "    }\n",
       "</style>\n",
       "<table border=\"1\" class=\"dataframe\">\n",
       "  <thead>\n",
       "    <tr style=\"text-align: right;\">\n",
       "      <th></th>\n",
       "      <th>movieId</th>\n",
       "      <th>title</th>\n",
       "      <th>genres</th>\n",
       "      <th>rating</th>\n",
       "    </tr>\n",
       "  </thead>\n",
       "  <tbody>\n",
       "    <tr>\n",
       "      <th>5412</th>\n",
       "      <td>8410</td>\n",
       "      <td>Suddenly (1954)</td>\n",
       "      <td>Crime|Drama|Film-Noir</td>\n",
       "      <td>4.000000</td>\n",
       "    </tr>\n",
       "    <tr>\n",
       "      <th>3374</th>\n",
       "      <td>4235</td>\n",
       "      <td>Amores Perros (Love's a Bitch) (2000)</td>\n",
       "      <td>Drama|Thriller</td>\n",
       "      <td>4.183333</td>\n",
       "    </tr>\n",
       "    <tr>\n",
       "      <th>6583</th>\n",
       "      <td>49530</td>\n",
       "      <td>Blood Diamond (2006)</td>\n",
       "      <td>Action|Adventure|Crime|Drama|Thriller|War</td>\n",
       "      <td>4.040541</td>\n",
       "    </tr>\n",
       "    <tr>\n",
       "      <th>5813</th>\n",
       "      <td>26509</td>\n",
       "      <td>Electric Dreams (1984)</td>\n",
       "      <td>Comedy|Drama|Romance|Sci-Fi</td>\n",
       "      <td>4.500000</td>\n",
       "    </tr>\n",
       "    <tr>\n",
       "      <th>1184</th>\n",
       "      <td>1463</td>\n",
       "      <td>That Old Feeling (1997)</td>\n",
       "      <td>Comedy|Romance</td>\n",
       "      <td>4.500000</td>\n",
       "    </tr>\n",
       "  </tbody>\n",
       "</table>\n",
       "</div>"
      ],
      "text/plain": [
       "      movieId                                  title  \\\n",
       "5412     8410                        Suddenly (1954)   \n",
       "3374     4235  Amores Perros (Love's a Bitch) (2000)   \n",
       "6583    49530                   Blood Diamond (2006)   \n",
       "5813    26509                 Electric Dreams (1984)   \n",
       "1184     1463                That Old Feeling (1997)   \n",
       "\n",
       "                                         genres    rating  \n",
       "5412                      Crime|Drama|Film-Noir  4.000000  \n",
       "3374                             Drama|Thriller  4.183333  \n",
       "6583  Action|Adventure|Crime|Drama|Thriller|War  4.040541  \n",
       "5813                Comedy|Drama|Romance|Sci-Fi  4.500000  \n",
       "1184                             Comedy|Romance  4.500000  "
      ]
     },
     "execution_count": 187,
     "metadata": {},
     "output_type": "execute_result"
    }
   ],
   "source": [
    "high_rated.sample(5)"
   ]
  },
  {
   "cell_type": "code",
   "execution_count": 280,
   "metadata": {},
   "outputs": [
    {
     "data": {
      "text/html": [
       "<div>\n",
       "<style>\n",
       "    .dataframe thead tr:only-child th {\n",
       "        text-align: right;\n",
       "    }\n",
       "\n",
       "    .dataframe thead th {\n",
       "        text-align: left;\n",
       "    }\n",
       "\n",
       "    .dataframe tbody tr th {\n",
       "        vertical-align: top;\n",
       "    }\n",
       "</style>\n",
       "<table border=\"1\" class=\"dataframe\">\n",
       "  <thead>\n",
       "    <tr style=\"text-align: right;\">\n",
       "      <th></th>\n",
       "      <th>movieId</th>\n",
       "      <th>title</th>\n",
       "      <th>genres</th>\n",
       "      <th>rating</th>\n",
       "    </tr>\n",
       "  </thead>\n",
       "  <tbody>\n",
       "    <tr>\n",
       "      <th>69</th>\n",
       "      <td>79057</td>\n",
       "      <td>Predators (2010)</td>\n",
       "      <td>Action|Sci-Fi|Thriller</td>\n",
       "      <td>3.166667</td>\n",
       "    </tr>\n",
       "    <tr>\n",
       "      <th>158</th>\n",
       "      <td>82461</td>\n",
       "      <td>Tron: Legacy (2010)</td>\n",
       "      <td>Action|Adventure|Sci-Fi|IMAX</td>\n",
       "      <td>2.884615</td>\n",
       "    </tr>\n",
       "    <tr>\n",
       "      <th>1318</th>\n",
       "      <td>157296</td>\n",
       "      <td>Finding Dory (2016)</td>\n",
       "      <td>Adventure|Animation|Comedy</td>\n",
       "      <td>3.333333</td>\n",
       "    </tr>\n",
       "    <tr>\n",
       "      <th>871</th>\n",
       "      <td>109848</td>\n",
       "      <td>Under the Skin (2013)</td>\n",
       "      <td>Horror|Sci-Fi|Thriller</td>\n",
       "      <td>3.166667</td>\n",
       "    </tr>\n",
       "    <tr>\n",
       "      <th>167</th>\n",
       "      <td>83086</td>\n",
       "      <td>Burlesque (2010)</td>\n",
       "      <td>Drama|Musical|Romance</td>\n",
       "      <td>1.000000</td>\n",
       "    </tr>\n",
       "  </tbody>\n",
       "</table>\n",
       "</div>"
      ],
      "text/plain": [
       "      movieId                  title                        genres    rating\n",
       "69      79057       Predators (2010)        Action|Sci-Fi|Thriller  3.166667\n",
       "158     82461    Tron: Legacy (2010)  Action|Adventure|Sci-Fi|IMAX  2.884615\n",
       "1318   157296    Finding Dory (2016)    Adventure|Animation|Comedy  3.333333\n",
       "871    109848  Under the Skin (2013)        Horror|Sci-Fi|Thriller  3.166667\n",
       "167     83086       Burlesque (2010)         Drama|Musical|Romance  1.000000"
      ]
     },
     "execution_count": 280,
     "metadata": {},
     "output_type": "execute_result"
    }
   ],
   "source": [
    "all2k10 = movie_ratings[movie_ratings['title'].str.contains('201')]# & movie_ratings['genres'].str.contains('Sci-Fi')]\n",
    "all2k10=all2k10.reset_index()#.drop(0)\n",
    "del all2k10['index']\n",
    "all2k10.drop([0])\n",
    "\n",
    "all2k_count = all2k10['movieId'].count()\n",
    "# all2k_count\n",
    "all2k10.sample(5)"
   ]
  },
  {
   "cell_type": "markdown",
   "metadata": {},
   "source": [
    "** There was a film in the all2k10 which was actually released in the 1980s but had the word 2010 in it so i got rid of that film **"
   ]
  },
  {
   "cell_type": "code",
   "execution_count": 270,
   "metadata": {},
   "outputs": [
    {
     "data": {
      "text/html": [
       "<div>\n",
       "<style>\n",
       "    .dataframe thead tr:only-child th {\n",
       "        text-align: right;\n",
       "    }\n",
       "\n",
       "    .dataframe thead th {\n",
       "        text-align: left;\n",
       "    }\n",
       "\n",
       "    .dataframe tbody tr th {\n",
       "        vertical-align: top;\n",
       "    }\n",
       "</style>\n",
       "<table border=\"1\" class=\"dataframe\">\n",
       "  <thead>\n",
       "    <tr style=\"text-align: right;\">\n",
       "      <th></th>\n",
       "      <th>movieId</th>\n",
       "      <th>rating</th>\n",
       "    </tr>\n",
       "  </thead>\n",
       "  <tbody>\n",
       "    <tr>\n",
       "      <th>count</th>\n",
       "      <td>1347.000000</td>\n",
       "      <td>1347.000000</td>\n",
       "    </tr>\n",
       "    <tr>\n",
       "      <th>mean</th>\n",
       "      <td>105797.183370</td>\n",
       "      <td>3.093564</td>\n",
       "    </tr>\n",
       "    <tr>\n",
       "      <th>std</th>\n",
       "      <td>20907.172483</td>\n",
       "      <td>0.975406</td>\n",
       "    </tr>\n",
       "    <tr>\n",
       "      <th>min</th>\n",
       "      <td>2311.000000</td>\n",
       "      <td>0.500000</td>\n",
       "    </tr>\n",
       "    <tr>\n",
       "      <th>25%</th>\n",
       "      <td>90416.500000</td>\n",
       "      <td>2.500000</td>\n",
       "    </tr>\n",
       "    <tr>\n",
       "      <th>50%</th>\n",
       "      <td>102407.000000</td>\n",
       "      <td>3.166667</td>\n",
       "    </tr>\n",
       "    <tr>\n",
       "      <th>75%</th>\n",
       "      <td>115593.000000</td>\n",
       "      <td>3.900000</td>\n",
       "    </tr>\n",
       "    <tr>\n",
       "      <th>max</th>\n",
       "      <td>163949.000000</td>\n",
       "      <td>5.000000</td>\n",
       "    </tr>\n",
       "  </tbody>\n",
       "</table>\n",
       "</div>"
      ],
      "text/plain": [
       "             movieId       rating\n",
       "count    1347.000000  1347.000000\n",
       "mean   105797.183370     3.093564\n",
       "std     20907.172483     0.975406\n",
       "min      2311.000000     0.500000\n",
       "25%     90416.500000     2.500000\n",
       "50%    102407.000000     3.166667\n",
       "75%    115593.000000     3.900000\n",
       "max    163949.000000     5.000000"
      ]
     },
     "execution_count": 270,
     "metadata": {},
     "output_type": "execute_result"
    }
   ],
   "source": [
    "all2k10.describe()"
   ]
  },
  {
   "cell_type": "code",
   "execution_count": 282,
   "metadata": {},
   "outputs": [
    {
     "data": {
      "text/html": [
       "<div>\n",
       "<style>\n",
       "    .dataframe thead tr:only-child th {\n",
       "        text-align: right;\n",
       "    }\n",
       "\n",
       "    .dataframe thead th {\n",
       "        text-align: left;\n",
       "    }\n",
       "\n",
       "    .dataframe tbody tr th {\n",
       "        vertical-align: top;\n",
       "    }\n",
       "</style>\n",
       "<table border=\"1\" class=\"dataframe\">\n",
       "  <thead>\n",
       "    <tr style=\"text-align: right;\">\n",
       "      <th></th>\n",
       "      <th>movieId</th>\n",
       "      <th>rating</th>\n",
       "    </tr>\n",
       "  </thead>\n",
       "  <tbody>\n",
       "    <tr>\n",
       "      <th>count</th>\n",
       "      <td>159.000000</td>\n",
       "      <td>159.000000</td>\n",
       "    </tr>\n",
       "    <tr>\n",
       "      <th>mean</th>\n",
       "      <td>105475.534591</td>\n",
       "      <td>3.067894</td>\n",
       "    </tr>\n",
       "    <tr>\n",
       "      <th>std</th>\n",
       "      <td>22005.260169</td>\n",
       "      <td>0.923710</td>\n",
       "    </tr>\n",
       "    <tr>\n",
       "      <th>min</th>\n",
       "      <td>2311.000000</td>\n",
       "      <td>0.500000</td>\n",
       "    </tr>\n",
       "    <tr>\n",
       "      <th>25%</th>\n",
       "      <td>90297.000000</td>\n",
       "      <td>2.500000</td>\n",
       "    </tr>\n",
       "    <tr>\n",
       "      <th>50%</th>\n",
       "      <td>103228.000000</td>\n",
       "      <td>3.166667</td>\n",
       "    </tr>\n",
       "    <tr>\n",
       "      <th>75%</th>\n",
       "      <td>115696.500000</td>\n",
       "      <td>3.727833</td>\n",
       "    </tr>\n",
       "    <tr>\n",
       "      <th>max</th>\n",
       "      <td>161918.000000</td>\n",
       "      <td>5.000000</td>\n",
       "    </tr>\n",
       "  </tbody>\n",
       "</table>\n",
       "</div>"
      ],
      "text/plain": [
       "             movieId      rating\n",
       "count     159.000000  159.000000\n",
       "mean   105475.534591    3.067894\n",
       "std     22005.260169    0.923710\n",
       "min      2311.000000    0.500000\n",
       "25%     90297.000000    2.500000\n",
       "50%    103228.000000    3.166667\n",
       "75%    115696.500000    3.727833\n",
       "max    161918.000000    5.000000"
      ]
     },
     "execution_count": 282,
     "metadata": {},
     "output_type": "execute_result"
    }
   ],
   "source": [
    "scifi_2k = all2k10[all2k10['genres'].str.contains('Sci-Fi')]\n",
    "scifi_count = scifi_2k['movieId'].count()\n",
    "scifi_2k.describe()\n",
    "# scifi_count"
   ]
  },
  {
   "cell_type": "code",
   "execution_count": 358,
   "metadata": {},
   "outputs": [
    {
     "data": {
      "text/plain": [
       "314"
      ]
     },
     "execution_count": 358,
     "metadata": {},
     "output_type": "execute_result"
    }
   ],
   "source": [
    "high2k =  high_rated[high_rated['title'].str.contains('201')] \n",
    "high2k.sample(5)\n",
    "high2k_count = high2k['movieId'].count()\n",
    "percent_2k = high2k_count/all2k_count *100\n",
    "# percent_2k\n",
    "high2k_count\n"
   ]
  },
  {
   "cell_type": "code",
   "execution_count": 301,
   "metadata": {},
   "outputs": [
    {
     "data": {
      "text/html": [
       "<div>\n",
       "<style>\n",
       "    .dataframe thead tr:only-child th {\n",
       "        text-align: right;\n",
       "    }\n",
       "\n",
       "    .dataframe thead th {\n",
       "        text-align: left;\n",
       "    }\n",
       "\n",
       "    .dataframe tbody tr th {\n",
       "        vertical-align: top;\n",
       "    }\n",
       "</style>\n",
       "<table border=\"1\" class=\"dataframe\">\n",
       "  <thead>\n",
       "    <tr style=\"text-align: right;\">\n",
       "      <th></th>\n",
       "      <th>movieId</th>\n",
       "      <th>rating</th>\n",
       "    </tr>\n",
       "  </thead>\n",
       "  <tbody>\n",
       "    <tr>\n",
       "      <th>count</th>\n",
       "      <td>314.000000</td>\n",
       "      <td>314.000000</td>\n",
       "    </tr>\n",
       "    <tr>\n",
       "      <th>mean</th>\n",
       "      <td>108238.745223</td>\n",
       "      <td>4.277725</td>\n",
       "    </tr>\n",
       "    <tr>\n",
       "      <th>std</th>\n",
       "      <td>21249.742830</td>\n",
       "      <td>0.366240</td>\n",
       "    </tr>\n",
       "    <tr>\n",
       "      <th>min</th>\n",
       "      <td>74324.000000</td>\n",
       "      <td>4.000000</td>\n",
       "    </tr>\n",
       "    <tr>\n",
       "      <th>25%</th>\n",
       "      <td>92589.000000</td>\n",
       "      <td>4.000000</td>\n",
       "    </tr>\n",
       "    <tr>\n",
       "      <th>50%</th>\n",
       "      <td>104338.000000</td>\n",
       "      <td>4.045608</td>\n",
       "    </tr>\n",
       "    <tr>\n",
       "      <th>75%</th>\n",
       "      <td>118686.250000</td>\n",
       "      <td>4.500000</td>\n",
       "    </tr>\n",
       "    <tr>\n",
       "      <th>max</th>\n",
       "      <td>163949.000000</td>\n",
       "      <td>5.000000</td>\n",
       "    </tr>\n",
       "  </tbody>\n",
       "</table>\n",
       "</div>"
      ],
      "text/plain": [
       "             movieId      rating\n",
       "count     314.000000  314.000000\n",
       "mean   108238.745223    4.277725\n",
       "std     21249.742830    0.366240\n",
       "min     74324.000000    4.000000\n",
       "25%     92589.000000    4.000000\n",
       "50%    104338.000000    4.045608\n",
       "75%    118686.250000    4.500000\n",
       "max    163949.000000    5.000000"
      ]
     },
     "execution_count": 301,
     "metadata": {},
     "output_type": "execute_result"
    }
   ],
   "source": [
    "high2k.describe()"
   ]
  },
  {
   "cell_type": "code",
   "execution_count": 319,
   "metadata": {},
   "outputs": [
    {
     "data": {
      "text/plain": [
       "15.09433962264151"
      ]
     },
     "execution_count": 319,
     "metadata": {},
     "output_type": "execute_result"
    }
   ],
   "source": [
    "hifi_2k = high2k[high2k['genres'].str.contains('Sci-Fi')]\n",
    "hifi_count = hifi_2k['movieId'].count()\n",
    "hifi_count\n",
    "hifi_percent= hifi_count/scifi_count *100\n",
    "hifi_percent\n",
    "# hifi_2k.sample(5)"
   ]
  },
  {
   "cell_type": "code",
   "execution_count": 309,
   "metadata": {},
   "outputs": [
    {
     "data": {
      "text/html": [
       "<div>\n",
       "<style>\n",
       "    .dataframe thead tr:only-child th {\n",
       "        text-align: right;\n",
       "    }\n",
       "\n",
       "    .dataframe thead th {\n",
       "        text-align: left;\n",
       "    }\n",
       "\n",
       "    .dataframe tbody tr th {\n",
       "        vertical-align: top;\n",
       "    }\n",
       "</style>\n",
       "<table border=\"1\" class=\"dataframe\">\n",
       "  <thead>\n",
       "    <tr style=\"text-align: right;\">\n",
       "      <th></th>\n",
       "      <th>movieId</th>\n",
       "      <th>rating</th>\n",
       "    </tr>\n",
       "  </thead>\n",
       "  <tbody>\n",
       "    <tr>\n",
       "      <th>count</th>\n",
       "      <td>24.000000</td>\n",
       "      <td>24.000000</td>\n",
       "    </tr>\n",
       "    <tr>\n",
       "      <th>mean</th>\n",
       "      <td>102726.833333</td>\n",
       "      <td>4.315836</td>\n",
       "    </tr>\n",
       "    <tr>\n",
       "      <th>std</th>\n",
       "      <td>19679.636851</td>\n",
       "      <td>0.365022</td>\n",
       "    </tr>\n",
       "    <tr>\n",
       "      <th>min</th>\n",
       "      <td>79132.000000</td>\n",
       "      <td>4.000000</td>\n",
       "    </tr>\n",
       "    <tr>\n",
       "      <th>25%</th>\n",
       "      <td>88888.750000</td>\n",
       "      <td>4.008152</td>\n",
       "    </tr>\n",
       "    <tr>\n",
       "      <th>50%</th>\n",
       "      <td>98866.500000</td>\n",
       "      <td>4.134405</td>\n",
       "    </tr>\n",
       "    <tr>\n",
       "      <th>75%</th>\n",
       "      <td>107561.750000</td>\n",
       "      <td>4.500000</td>\n",
       "    </tr>\n",
       "    <tr>\n",
       "      <th>max</th>\n",
       "      <td>158956.000000</td>\n",
       "      <td>5.000000</td>\n",
       "    </tr>\n",
       "  </tbody>\n",
       "</table>\n",
       "</div>"
      ],
      "text/plain": [
       "             movieId     rating\n",
       "count      24.000000  24.000000\n",
       "mean   102726.833333   4.315836\n",
       "std     19679.636851   0.365022\n",
       "min     79132.000000   4.000000\n",
       "25%     88888.750000   4.008152\n",
       "50%     98866.500000   4.134405\n",
       "75%    107561.750000   4.500000\n",
       "max    158956.000000   5.000000"
      ]
     },
     "execution_count": 309,
     "metadata": {},
     "output_type": "execute_result"
    }
   ],
   "source": [
    "hifi_2k.describe()"
   ]
  },
  {
   "cell_type": "markdown",
   "metadata": {},
   "source": [
    "# Let's also keep another genre of movies to compare Sci-Fi to, say Dramas\n"
   ]
  },
  {
   "cell_type": "code",
   "execution_count": 354,
   "metadata": {},
   "outputs": [
    {
     "data": {
      "text/plain": [
       "573"
      ]
     },
     "execution_count": 354,
     "metadata": {},
     "output_type": "execute_result"
    }
   ],
   "source": [
    "all_dramas = all2k10[all2k10['genres'].str.contains('Drama')]\n",
    "drama_count= all_dramas['movieId'].count()\n",
    "\n",
    "drama_count"
   ]
  },
  {
   "cell_type": "code",
   "execution_count": 359,
   "metadata": {},
   "outputs": [
    {
     "data": {
      "text/plain": [
       "163"
      ]
     },
     "execution_count": 359,
     "metadata": {},
     "output_type": "execute_result"
    }
   ],
   "source": [
    "hi_dramas = high2k[high2k['genres'].str.contains('Drama')]\n",
    "hi_dramas_count = hi_dramas['movieId'].count()\n",
    "hi_dramas_count\n"
   ]
  },
  {
   "cell_type": "code",
   "execution_count": 362,
   "metadata": {},
   "outputs": [
    {
     "data": {
      "text/plain": [
       "28.446771378708551"
      ]
     },
     "execution_count": 362,
     "metadata": {},
     "output_type": "execute_result"
    }
   ],
   "source": [
    "drama_percent = hi_dramas_count/drama_count*100\n",
    "drama_percent"
   ]
  },
  {
   "cell_type": "markdown",
   "metadata": {},
   "source": [
    "## All movies in 2010s"
   ]
  },
  {
   "cell_type": "code",
   "execution_count": 328,
   "metadata": {},
   "outputs": [
    {
     "name": "stdout",
     "output_type": "stream",
     "text": [
      "Total number of movies that came out in the 2010s = 1347 \n",
      "\n",
      "Movies of the 2010s with average rating of atleast 4.0= 314 \n",
      "\n",
      "Of all the movies released in the 2010s 23.3110616184 % had an average rating of atleast 4.0 or above\n"
     ]
    }
   ],
   "source": [
    "print('Total number of movies that came out in the 2010s =', all2k_count,'\\n')\n",
    "print('Movies of the 2010s with average rating of atleast 4.0=', high2k_count,'\\n')\n",
    "print('Of all the movies released in the 2010s',percent_2k,'% had an average rating of atleast 4.0 or above')"
   ]
  },
  {
   "cell_type": "markdown",
   "metadata": {},
   "source": [
    "## Sci-Fi movies in 2010s "
   ]
  },
  {
   "cell_type": "code",
   "execution_count": 335,
   "metadata": {},
   "outputs": [
    {
     "name": "stdout",
     "output_type": "stream",
     "text": [
      "Total number of Sci-fi related movies released in 2010s = 159 \n",
      "\n",
      "Sci-Fi movies with average rating of atleast 4.0 = 24 \n",
      "\n",
      "Percent of the high rated movies that were Sci-Fi = 15.0943396226 \n",
      "\n"
     ]
    }
   ],
   "source": [
    "print('Total number of Sci-fi related movies released in 2010s =',scifi_count,'\\n')\n",
    "print('Sci-Fi movies with average rating of atleast 4.0 =',hifi_count,'\\n')\n",
    "print('Percent of the high rated movies that were Sci-Fi =', hifi_percent,'\\n')"
   ]
  },
  {
   "cell_type": "markdown",
   "metadata": {},
   "source": [
    "## Dramas in 2010s "
   ]
  },
  {
   "cell_type": "code",
   "execution_count": 366,
   "metadata": {},
   "outputs": [
    {
     "name": "stdout",
     "output_type": "stream",
     "text": [
      "Total number of Drama related movies released in 2010s = 573 \n",
      "\n",
      "Dramatic movies with average rating of atleast 4.0 = 163 \n",
      "\n",
      "Percent of the high rated movies that were Dramas = 28.4467713787 \n",
      "\n"
     ]
    }
   ],
   "source": [
    "print('Total number of Drama related movies released in 2010s =',drama_count,'\\n')\n",
    "print('Dramatic movies with average rating of atleast 4.0 =',hi_dramas_count,'\\n')\n",
    "print('Percent of the high rated movies that were Dramas =', drama_percent,'\\n')"
   ]
  },
  {
   "cell_type": "code",
   "execution_count": 368,
   "metadata": {},
   "outputs": [
    {
     "data": {
      "text/html": [
       "<div>\n",
       "<style>\n",
       "    .dataframe thead tr:only-child th {\n",
       "        text-align: right;\n",
       "    }\n",
       "\n",
       "    .dataframe thead th {\n",
       "        text-align: left;\n",
       "    }\n",
       "\n",
       "    .dataframe tbody tr th {\n",
       "        vertical-align: top;\n",
       "    }\n",
       "</style>\n",
       "<table border=\"1\" class=\"dataframe\">\n",
       "  <thead>\n",
       "    <tr style=\"text-align: right;\">\n",
       "      <th></th>\n",
       "      <th>All 2k10</th>\n",
       "      <th>Dramas</th>\n",
       "      <th>SciFi-2k10s</th>\n",
       "    </tr>\n",
       "  </thead>\n",
       "  <tbody>\n",
       "    <tr>\n",
       "      <th>Total movies</th>\n",
       "      <td>1347.000000</td>\n",
       "      <td>573.000000</td>\n",
       "      <td>159.00000</td>\n",
       "    </tr>\n",
       "    <tr>\n",
       "      <th>with &gt;=4.0 avg rating</th>\n",
       "      <td>314.000000</td>\n",
       "      <td>163.000000</td>\n",
       "      <td>24.00000</td>\n",
       "    </tr>\n",
       "    <tr>\n",
       "      <th>% of 4 vs all</th>\n",
       "      <td>23.311062</td>\n",
       "      <td>28.446771</td>\n",
       "      <td>15.09434</td>\n",
       "    </tr>\n",
       "  </tbody>\n",
       "</table>\n",
       "</div>"
      ],
      "text/plain": [
       "                          All 2k10      Dramas  SciFi-2k10s\n",
       "Total movies           1347.000000  573.000000    159.00000\n",
       "with >=4.0 avg rating   314.000000  163.000000     24.00000\n",
       "% of 4 vs all            23.311062   28.446771     15.09434"
      ]
     },
     "execution_count": 368,
     "metadata": {},
     "output_type": "execute_result"
    }
   ],
   "source": [
    "table_2k10 = {'All 2k10':pd.Series([all2k_count,high2k_count, percent_2k],\n",
    "                    index= ['Total movies', 'with >=4.0 avg rating', '% of 4 vs all']),\n",
    "             'SciFi-2k10s':pd.Series([scifi_count,hifi_count, hifi_percent],\n",
    "                    index= ['Total movies', 'with >=4.0 avg rating', '% of 4 vs all']) ,\n",
    "             'Dramas':pd.Series([drama_count,hi_dramas_count,drama_percent],\n",
    "                    index= ['Total movies', 'with >=4.0 avg rating', '% of 4 vs all'])\n",
    "             }\n",
    "df_2k10=pd.DataFrame(table_2k10)\n",
    "df_2k10"
   ]
  },
  {
   "cell_type": "markdown",
   "metadata": {},
   "source": [
    "## Let's plot the bar charts of these movies "
   ]
  },
  {
   "cell_type": "code",
   "execution_count": 370,
   "metadata": {},
   "outputs": [
    {
     "data": {
      "text/plain": [
       "<matplotlib.axes._subplots.AxesSubplot at 0x7f2f0f2a1710>"
      ]
     },
     "execution_count": 370,
     "metadata": {},
     "output_type": "execute_result"
    },
    {
     "data": {
      "image/png": "[encoded data removed]",
      "text/plain": [
       "<matplotlib.figure.Figure at 0x7f2f0f31cc88>"
      ]
     },
     "metadata": {},
     "output_type": "display_data"
    }
   ],
   "source": [
    "df_2k10.plot(kind='bar', figsize=(8,8))"
   ]
  },
  {
   "cell_type": "markdown",
   "metadata": {},
   "source": [
    "**Based on this bar plot, we can see some very interesting things. The percentage of movies made in 2010s, 23.31% of those movies have an average rating of 4.0 or above. Contrasting this to the 80s, where 23.66% of the movies released had a 4.0 or above average rating. The sample size isn't very wide apart either. The total number of movies released in the 80s was 1198 used in this analysis whereas the movies in 2010s upto 2016, which is the extent of this dataset, is 1347.    **"
   ]
  },
  {
   "cell_type": "markdown",
   "metadata": {},
   "source": [
    "** In terms of the Sci-Fi movies released in 2010, 15.09% were rated with an average of 4.0 or above with total number of 159 movies made in the genre up until 2016. **\n",
    "\n",
    "\n",
    "** Compare this to Dramas in 2010s 28.45% of them have an average rating of 4.0 and above with a grand total of 573 movies made under the genre**"
   ]
  }
 ],
 "metadata": {
  "kernelspec": {
   "display_name": "Python 3",
   "language": "python",
   "name": "python3"
  },
  "language_info": {
   "codemirror_mode": {
    "name": "ipython",
    "version": 3
   },
   "file_extension": ".py",
   "mimetype": "text/x-python",
   "name": "python",
   "nbconvert_exporter": "python",
   "pygments_lexer": "ipython3",
   "version": "3.6.3"
  }
 },
 "nbformat": 4,
 "nbformat_minor": 2
}
